{
 "cells": [
  {
   "cell_type": "code",
   "execution_count": 1,
   "metadata": {},
   "outputs": [
    {
     "name": "stdout",
     "output_type": "stream",
     "text": [
      "Intel MKL WARNING: Support of Intel(R) Streaming SIMD Extensions 4.2 (Intel(R) SSE4.2) enabled only processors has been deprecated. Intel oneAPI Math Kernel Library 2025.0 will require Intel(R) Advanced Vector Extensions (Intel(R) AVX) instructions.\n",
      "Intel MKL WARNING: Support of Intel(R) Streaming SIMD Extensions 4.2 (Intel(R) SSE4.2) enabled only processors has been deprecated. Intel oneAPI Math Kernel Library 2025.0 will require Intel(R) Advanced Vector Extensions (Intel(R) AVX) instructions.\n"
     ]
    }
   ],
   "source": [
    "import numpy as np\n",
    "import pandas as pd\n",
    "import matplotlib.pyplot as plt\n",
    "import pickle \n",
    "from tabulate import tabulate"
   ]
  },
  {
   "cell_type": "code",
   "execution_count": 2,
   "metadata": {},
   "outputs": [
    {
     "name": "stderr",
     "output_type": "stream",
     "text": [
      "/Users/devasenan/Documents/projects/GA-SC/performance_measure/pm_utils.py:232: FutureWarning: The frame.append method is deprecated and will be removed from pandas in a future version. Use pandas.concat instead.\n",
      "  df = df.append(df.mean(), ignore_index=True)\n",
      "/Users/devasenan/Documents/projects/GA-SC/performance_measure/pm_utils.py:232: FutureWarning: The frame.append method is deprecated and will be removed from pandas in a future version. Use pandas.concat instead.\n",
      "  df = df.append(df.mean(), ignore_index=True)\n",
      "/Users/devasenan/Documents/projects/GA-SC/performance_measure/pm_utils.py:232: FutureWarning: The frame.append method is deprecated and will be removed from pandas in a future version. Use pandas.concat instead.\n",
      "  df = df.append(df.mean(), ignore_index=True)\n",
      "/Users/devasenan/Documents/projects/GA-SC/performance_measure/pm_utils.py:232: FutureWarning: The default value of numeric_only in DataFrame.mean is deprecated. In a future version, it will default to False. In addition, specifying 'numeric_only=None' is deprecated. Select only valid columns or specify the value of numeric_only to silence this warning.\n",
      "  df = df.append(df.mean(), ignore_index=True)\n",
      "/Users/devasenan/Documents/projects/GA-SC/performance_measure/pm_utils.py:232: FutureWarning: The frame.append method is deprecated and will be removed from pandas in a future version. Use pandas.concat instead.\n",
      "  df = df.append(df.mean(), ignore_index=True)\n",
      "/Users/devasenan/Documents/projects/GA-SC/performance_measure/pm_utils.py:232: FutureWarning: The default value of numeric_only in DataFrame.mean is deprecated. In a future version, it will default to False. In addition, specifying 'numeric_only=None' is deprecated. Select only valid columns or specify the value of numeric_only to silence this warning.\n",
      "  df = df.append(df.mean(), ignore_index=True)\n",
      "/Users/devasenan/Documents/projects/GA-SC/performance_measure/pm_utils.py:232: FutureWarning: The frame.append method is deprecated and will be removed from pandas in a future version. Use pandas.concat instead.\n",
      "  df = df.append(df.mean(), ignore_index=True)\n"
     ]
    },
    {
     "name": "stdout",
     "output_type": "stream",
     "text": [
      "0.604 0.908\n",
      "0.6310160427807486 0.9438502673796791\n",
      "0.491 0.876\n"
     ]
    },
    {
     "name": "stderr",
     "output_type": "stream",
     "text": [
      "/Users/devasenan/Documents/projects/GA-SC/performance_measure/pm_utils.py:232: FutureWarning: The default value of numeric_only in DataFrame.mean is deprecated. In a future version, it will default to False. In addition, specifying 'numeric_only=None' is deprecated. Select only valid columns or specify the value of numeric_only to silence this warning.\n",
      "  df = df.append(df.mean(), ignore_index=True)\n",
      "/Users/devasenan/Documents/projects/GA-SC/performance_measure/pm_utils.py:232: FutureWarning: The frame.append method is deprecated and will be removed from pandas in a future version. Use pandas.concat instead.\n",
      "  df = df.append(df.mean(), ignore_index=True)\n",
      "/Users/devasenan/Documents/projects/GA-SC/performance_measure/pm_utils.py:258: FutureWarning: The default value of numeric_only in DataFrame.max is deprecated. In a future version, it will default to False. In addition, specifying 'numeric_only=None' is deprecated. Select only valid columns or specify the value of numeric_only to silence this warning.\n",
      "  az_maxs = max(kbga_az.max().to_list())\n",
      "/Users/devasenan/Documents/projects/GA-SC/performance_measure/pm_utils.py:260: FutureWarning: The default value of numeric_only in DataFrame.max is deprecated. In a future version, it will default to False. In addition, specifying 'numeric_only=None' is deprecated. Select only valid columns or specify the value of numeric_only to silence this warning.\n",
      "  imdb_maxs = max(kbga_imdb.max().to_list())\n",
      "/Users/devasenan/Documents/projects/GA-SC/performance_measure/pm_utils.py:262: FutureWarning: The default value of numeric_only in DataFrame.max is deprecated. In a future version, it will default to False. In addition, specifying 'numeric_only=None' is deprecated. Select only valid columns or specify the value of numeric_only to silence this warning.\n",
      "  yelp_maxs = max(kbga_yelp.max().to_list())\n"
     ]
    }
   ],
   "source": [
    "from pm_utils import *"
   ]
  },
  {
   "attachments": {},
   "cell_type": "markdown",
   "metadata": {},
   "source": [
    "## Measures"
   ]
  },
  {
   "cell_type": "code",
   "execution_count": null,
   "metadata": {},
   "outputs": [],
   "source": [
    "abfv_ga = average_best_fitness_value(ga_az, ga_imdb, ga_yelp)\n",
    "abfv_kbga = average_best_fitness_value(kbga_az, kbga_imdb, kbga_yelp)\n",
    "abfv = pd.concat([abfv_ga, abfv_kbga], axis=1)\n",
    "abfv"
   ]
  },
  {
   "cell_type": "code",
   "execution_count": null,
   "metadata": {},
   "outputs": [],
   "source": [
    "abog_ga = average_best_of_generation(ga_az, ga_imdb, ga_yelp)\n",
    "abog_kbga = average_best_of_generation(kbga_az, kbga_imdb, kbga_yelp)\n",
    "abog = pd.concat([abog_ga, abog_kbga], axis=1)\n",
    "abog"
   ]
  },
  {
   "cell_type": "code",
   "execution_count": 6,
   "metadata": {},
   "outputs": [
    {
     "name": "stderr",
     "output_type": "stream",
     "text": [
      "/Users/devasenan/Documents/projects/GA-SC/performance_measure/pm_utils.py:65: FutureWarning: The frame.append method is deprecated and will be removed from pandas in a future version. Use pandas.concat instead.\n",
      "  oa = oa.append(oa.mean(), ignore_index=True)\n",
      "/Users/devasenan/Documents/projects/GA-SC/performance_measure/pm_utils.py:65: FutureWarning: The frame.append method is deprecated and will be removed from pandas in a future version. Use pandas.concat instead.\n",
      "  oa = oa.append(oa.mean(), ignore_index=True)\n"
     ]
    },
    {
     "data": {
      "text/html": [
       "<div>\n",
       "<style scoped>\n",
       "    .dataframe tbody tr th:only-of-type {\n",
       "        vertical-align: middle;\n",
       "    }\n",
       "\n",
       "    .dataframe tbody tr th {\n",
       "        vertical-align: top;\n",
       "    }\n",
       "\n",
       "    .dataframe thead th {\n",
       "        text-align: right;\n",
       "    }\n",
       "</style>\n",
       "<table border=\"1\" class=\"dataframe\">\n",
       "  <thead>\n",
       "    <tr style=\"text-align: right;\">\n",
       "      <th></th>\n",
       "      <th>gen_1</th>\n",
       "      <th>gen_25</th>\n",
       "      <th>gen_50</th>\n",
       "      <th>gen_75</th>\n",
       "      <th>gen_100</th>\n",
       "      <th>gen_1</th>\n",
       "      <th>gen_25</th>\n",
       "      <th>gen_50</th>\n",
       "      <th>gen_75</th>\n",
       "      <th>gen_100</th>\n",
       "    </tr>\n",
       "    <tr>\n",
       "      <th>Datasets</th>\n",
       "      <th></th>\n",
       "      <th></th>\n",
       "      <th></th>\n",
       "      <th></th>\n",
       "      <th></th>\n",
       "      <th></th>\n",
       "      <th></th>\n",
       "      <th></th>\n",
       "      <th></th>\n",
       "      <th></th>\n",
       "    </tr>\n",
       "  </thead>\n",
       "  <tbody>\n",
       "    <tr>\n",
       "      <th>Amazon</th>\n",
       "      <td>0.110088</td>\n",
       "      <td>0.439474</td>\n",
       "      <td>0.565789</td>\n",
       "      <td>0.630702</td>\n",
       "      <td>0.673246</td>\n",
       "      <td>0.278509</td>\n",
       "      <td>0.757456</td>\n",
       "      <td>0.877193</td>\n",
       "      <td>0.925877</td>\n",
       "      <td>0.948246</td>\n",
       "    </tr>\n",
       "    <tr>\n",
       "      <th>IMDB</th>\n",
       "      <td>0.062108</td>\n",
       "      <td>0.341595</td>\n",
       "      <td>0.472650</td>\n",
       "      <td>0.566097</td>\n",
       "      <td>0.619373</td>\n",
       "      <td>0.222222</td>\n",
       "      <td>0.628775</td>\n",
       "      <td>0.786610</td>\n",
       "      <td>0.870085</td>\n",
       "      <td>0.916524</td>\n",
       "    </tr>\n",
       "    <tr>\n",
       "      <th>Yelp</th>\n",
       "      <td>0.116883</td>\n",
       "      <td>0.588918</td>\n",
       "      <td>0.688658</td>\n",
       "      <td>0.739913</td>\n",
       "      <td>0.768658</td>\n",
       "      <td>0.405022</td>\n",
       "      <td>0.773506</td>\n",
       "      <td>0.884675</td>\n",
       "      <td>0.935238</td>\n",
       "      <td>0.960519</td>\n",
       "    </tr>\n",
       "    <tr>\n",
       "      <th>Average</th>\n",
       "      <td>0.096360</td>\n",
       "      <td>0.456662</td>\n",
       "      <td>0.575699</td>\n",
       "      <td>0.645571</td>\n",
       "      <td>0.687092</td>\n",
       "      <td>0.301918</td>\n",
       "      <td>0.719913</td>\n",
       "      <td>0.849493</td>\n",
       "      <td>0.910400</td>\n",
       "      <td>0.941763</td>\n",
       "    </tr>\n",
       "  </tbody>\n",
       "</table>\n",
       "</div>"
      ],
      "text/plain": [
       "             gen_1    gen_25    gen_50    gen_75   gen_100     gen_1  \\\n",
       "Datasets                                                               \n",
       "Amazon    0.110088  0.439474  0.565789  0.630702  0.673246  0.278509   \n",
       "IMDB      0.062108  0.341595  0.472650  0.566097  0.619373  0.222222   \n",
       "Yelp      0.116883  0.588918  0.688658  0.739913  0.768658  0.405022   \n",
       "Average   0.096360  0.456662  0.575699  0.645571  0.687092  0.301918   \n",
       "\n",
       "            gen_25    gen_50    gen_75   gen_100  \n",
       "Datasets                                          \n",
       "Amazon    0.757456  0.877193  0.925877  0.948246  \n",
       "IMDB      0.628775  0.786610  0.870085  0.916524  \n",
       "Yelp      0.773506  0.884675  0.935238  0.960519  \n",
       "Average   0.719913  0.849493  0.910400  0.941763  "
      ]
     },
     "execution_count": 6,
     "metadata": {},
     "output_type": "execute_result"
    }
   ],
   "source": [
    "oa_ga = optimization_accuracy(ga_az, ga_imdb, ga_yelp)\n",
    "oa_kbga = optimization_accuracy(kbga_az, kbga_imdb, kbga_yelp)\n",
    "oa = pd.concat([oa_ga, oa_kbga], axis=1)\n",
    "oa"
   ]
  },
  {
   "cell_type": "code",
   "execution_count": null,
   "metadata": {},
   "outputs": [],
   "source": [
    "el_ga = likelihood_of_evolution_leap(ga_az, ga_imdb, ga_yelp, runs)\n",
    "el_kbga = likelihood_of_evolution_leap(kbga_az, kbga_imdb, kbga_yelp, runs)\n",
    "el = pd.concat([el_ga, el_kbga], axis=1)\n",
    "el"
   ]
  },
  {
   "cell_type": "code",
   "execution_count": 3,
   "metadata": {},
   "outputs": [
    {
     "name": "stderr",
     "output_type": "stream",
     "text": [
      "/Users/devasenan/Documents/projects/GA-SC/performance_measure/pm_utils.py:187: FutureWarning: The frame.append method is deprecated and will be removed from pandas in a future version. Use pandas.concat instead.\n",
      "  afes = afes.append(afes.mean(), ignore_index=True)\n",
      "/Users/devasenan/Documents/projects/GA-SC/performance_measure/pm_utils.py:187: FutureWarning: The frame.append method is deprecated and will be removed from pandas in a future version. Use pandas.concat instead.\n",
      "  afes = afes.append(afes.mean(), ignore_index=True)\n"
     ]
    },
    {
     "data": {
      "text/html": [
       "<div>\n",
       "<style scoped>\n",
       "    .dataframe tbody tr th:only-of-type {\n",
       "        vertical-align: middle;\n",
       "    }\n",
       "\n",
       "    .dataframe tbody tr th {\n",
       "        vertical-align: top;\n",
       "    }\n",
       "\n",
       "    .dataframe thead th {\n",
       "        text-align: right;\n",
       "    }\n",
       "</style>\n",
       "<table border=\"1\" class=\"dataframe\">\n",
       "  <thead>\n",
       "    <tr style=\"text-align: right;\">\n",
       "      <th></th>\n",
       "      <th>AFES</th>\n",
       "      <th>AFES</th>\n",
       "    </tr>\n",
       "    <tr>\n",
       "      <th>Datasets</th>\n",
       "      <th></th>\n",
       "      <th></th>\n",
       "    </tr>\n",
       "  </thead>\n",
       "  <tbody>\n",
       "    <tr>\n",
       "      <th>Amazon</th>\n",
       "      <td>26.000000</td>\n",
       "      <td>26.000000</td>\n",
       "    </tr>\n",
       "    <tr>\n",
       "      <th>IMDB</th>\n",
       "      <td>28.000000</td>\n",
       "      <td>28.000000</td>\n",
       "    </tr>\n",
       "    <tr>\n",
       "      <th>Yelp</th>\n",
       "      <td>26.000000</td>\n",
       "      <td>26.000000</td>\n",
       "    </tr>\n",
       "    <tr>\n",
       "      <th>Average</th>\n",
       "      <td>26.666667</td>\n",
       "      <td>26.666667</td>\n",
       "    </tr>\n",
       "  </tbody>\n",
       "</table>\n",
       "</div>"
      ],
      "text/plain": [
       "               AFES       AFES\n",
       "Datasets                      \n",
       "Amazon    26.000000  26.000000\n",
       "IMDB      28.000000  28.000000\n",
       "Yelp      26.000000  26.000000\n",
       "Average   26.666667  26.666667"
      ]
     },
     "execution_count": 3,
     "metadata": {},
     "output_type": "execute_result"
    }
   ],
   "source": [
    "afes_ga = average_no_of_function_evaluations(ga_az, ga_imdb, ga_yelp, runs)\n",
    "afes_kbga = average_no_of_function_evaluations(kbga_az, kbga_imdb, kbga_yelp, runs)\n",
    "afes = pd.concat([afes_ga, afes_kbga], axis=1)\n",
    "afes"
   ]
  },
  {
   "cell_type": "markdown",
   "metadata": {},
   "source": [
    "<div>\n",
    "<style scoped>\n",
    "    .dataframe tbody tr th:only-of-type {\n",
    "        vertical-align: middle;\n",
    "    }\n",
    "\n",
    "    .dataframe tbody tr th {\n",
    "        vertical-align: top;\n",
    "    }\n",
    "\n",
    "    .dataframe thead th {\n",
    "        text-align: right;\n",
    "    }\n",
    "</style>\n",
    "<table border=\"1\" class=\"dataframe\">\n",
    "  <thead>\n",
    "    <tr style=\"text-align: right;\">\n",
    "      <th></th>\n",
    "      <th>AFES</th>\n",
    "      <th>AFES</th>\n",
    "    </tr>\n",
    "    <tr>\n",
    "      <th>Datasets</th>\n",
    "      <th></th>\n",
    "      <th></th>\n",
    "    </tr>\n",
    "  </thead>\n",
    "  <tbody>\n",
    "    <tr>\n",
    "      <th>Amazon</th>\n",
    "      <td>48.466667</td>\n",
    "      <td>11.033333</td>\n",
    "    </tr>\n",
    "    <tr>\n",
    "      <th>IMDB</th>\n",
    "      <td>52.466667</td>\n",
    "      <td>12.800000</td>\n",
    "    </tr>\n",
    "    <tr>\n",
    "      <th>Yelp</th>\n",
    "      <td>58.300000</td>\n",
    "      <td>21.833333</td>\n",
    "    </tr>\n",
    "    <tr>\n",
    "      <th>Average</th>\n",
    "      <td>53.077778</td>\n",
    "      <td>15.222222</td>\n",
    "    </tr>\n",
    "  </tbody>\n",
    "</table>\n",
    "</div>"
   ]
  },
  {
   "cell_type": "code",
   "execution_count": 4,
   "metadata": {},
   "outputs": [],
   "source": [
    "success_thresh = 0.78"
   ]
  },
  {
   "cell_type": "code",
   "execution_count": 5,
   "metadata": {},
   "outputs": [
    {
     "name": "stderr",
     "output_type": "stream",
     "text": [
      "/Users/devasenan/Documents/projects/GA-SC/performance_measure/pm_utils.py:144: FutureWarning: The frame.append method is deprecated and will be removed from pandas in a future version. Use pandas.concat instead.\n",
      "  pc = pc.append(pc.mean(), ignore_index=True)\n",
      "/Users/devasenan/Documents/projects/GA-SC/performance_measure/pm_utils.py:144: FutureWarning: The frame.append method is deprecated and will be removed from pandas in a future version. Use pandas.concat instead.\n",
      "  pc = pc.append(pc.mean(), ignore_index=True)\n"
     ]
    },
    {
     "data": {
      "text/html": [
       "<div>\n",
       "<style scoped>\n",
       "    .dataframe tbody tr th:only-of-type {\n",
       "        vertical-align: middle;\n",
       "    }\n",
       "\n",
       "    .dataframe tbody tr th {\n",
       "        vertical-align: top;\n",
       "    }\n",
       "\n",
       "    .dataframe thead th {\n",
       "        text-align: right;\n",
       "    }\n",
       "</style>\n",
       "<table border=\"1\" class=\"dataframe\">\n",
       "  <thead>\n",
       "    <tr style=\"text-align: right;\">\n",
       "      <th></th>\n",
       "      <th>P</th>\n",
       "      <th>P</th>\n",
       "    </tr>\n",
       "    <tr>\n",
       "      <th>Datasets</th>\n",
       "      <th></th>\n",
       "      <th></th>\n",
       "    </tr>\n",
       "  </thead>\n",
       "  <tbody>\n",
       "    <tr>\n",
       "      <th>Amazon</th>\n",
       "      <td>0.933333</td>\n",
       "      <td>1.0</td>\n",
       "    </tr>\n",
       "    <tr>\n",
       "      <th>IMDB</th>\n",
       "      <td>1.000000</td>\n",
       "      <td>1.0</td>\n",
       "    </tr>\n",
       "    <tr>\n",
       "      <th>Yelp</th>\n",
       "      <td>0.800000</td>\n",
       "      <td>1.0</td>\n",
       "    </tr>\n",
       "    <tr>\n",
       "      <th>Average</th>\n",
       "      <td>0.911111</td>\n",
       "      <td>1.0</td>\n",
       "    </tr>\n",
       "  </tbody>\n",
       "</table>\n",
       "</div>"
      ],
      "text/plain": [
       "                 P    P\n",
       "Datasets               \n",
       "Amazon    0.933333  1.0\n",
       "IMDB      1.000000  1.0\n",
       "Yelp      0.800000  1.0\n",
       "Average   0.911111  1.0"
      ]
     },
     "execution_count": 5,
     "metadata": {},
     "output_type": "execute_result"
    }
   ],
   "source": [
    "pc_ga = probability_of_convergence(ga_az, ga_imdb, ga_yelp, success_thresh, runs)\n",
    "pc_kbga = probability_of_convergence(kbga_az, kbga_imdb, kbga_yelp, success_thresh, runs)\n",
    "pc = pd.concat([pc_ga, pc_kbga], axis=1)\n",
    "pc"
   ]
  },
  {
   "cell_type": "code",
   "execution_count": 6,
   "metadata": {},
   "outputs": [
    {
     "name": "stderr",
     "output_type": "stream",
     "text": [
      "/Users/devasenan/Documents/projects/GA-SC/performance_measure/pm_utils.py:187: FutureWarning: The frame.append method is deprecated and will be removed from pandas in a future version. Use pandas.concat instead.\n",
      "  afes = afes.append(afes.mean(), ignore_index=True)\n",
      "/Users/devasenan/Documents/projects/GA-SC/performance_measure/pm_utils.py:144: FutureWarning: The frame.append method is deprecated and will be removed from pandas in a future version. Use pandas.concat instead.\n",
      "  pc = pc.append(pc.mean(), ignore_index=True)\n",
      "/Users/devasenan/Documents/projects/GA-SC/performance_measure/pm_utils.py:208: FutureWarning: The frame.append method is deprecated and will be removed from pandas in a future version. Use pandas.concat instead.\n",
      "  sp = sp.append(sp.mean(), ignore_index=True)\n",
      "/Users/devasenan/Documents/projects/GA-SC/performance_measure/pm_utils.py:187: FutureWarning: The frame.append method is deprecated and will be removed from pandas in a future version. Use pandas.concat instead.\n",
      "  afes = afes.append(afes.mean(), ignore_index=True)\n",
      "/Users/devasenan/Documents/projects/GA-SC/performance_measure/pm_utils.py:144: FutureWarning: The frame.append method is deprecated and will be removed from pandas in a future version. Use pandas.concat instead.\n",
      "  pc = pc.append(pc.mean(), ignore_index=True)\n",
      "/Users/devasenan/Documents/projects/GA-SC/performance_measure/pm_utils.py:208: FutureWarning: The frame.append method is deprecated and will be removed from pandas in a future version. Use pandas.concat instead.\n",
      "  sp = sp.append(sp.mean(), ignore_index=True)\n"
     ]
    },
    {
     "data": {
      "text/html": [
       "<div>\n",
       "<style scoped>\n",
       "    .dataframe tbody tr th:only-of-type {\n",
       "        vertical-align: middle;\n",
       "    }\n",
       "\n",
       "    .dataframe tbody tr th {\n",
       "        vertical-align: top;\n",
       "    }\n",
       "\n",
       "    .dataframe thead th {\n",
       "        text-align: right;\n",
       "    }\n",
       "</style>\n",
       "<table border=\"1\" class=\"dataframe\">\n",
       "  <thead>\n",
       "    <tr style=\"text-align: right;\">\n",
       "      <th></th>\n",
       "      <th>SP</th>\n",
       "      <th>SP</th>\n",
       "    </tr>\n",
       "    <tr>\n",
       "      <th>Datasets</th>\n",
       "      <th></th>\n",
       "      <th></th>\n",
       "    </tr>\n",
       "  </thead>\n",
       "  <tbody>\n",
       "    <tr>\n",
       "      <th>Amazon</th>\n",
       "      <td>27.857143</td>\n",
       "      <td>26.000000</td>\n",
       "    </tr>\n",
       "    <tr>\n",
       "      <th>IMDB</th>\n",
       "      <td>28.000000</td>\n",
       "      <td>28.000000</td>\n",
       "    </tr>\n",
       "    <tr>\n",
       "      <th>Yelp</th>\n",
       "      <td>32.500000</td>\n",
       "      <td>26.000000</td>\n",
       "    </tr>\n",
       "    <tr>\n",
       "      <th>Average</th>\n",
       "      <td>29.452381</td>\n",
       "      <td>26.666667</td>\n",
       "    </tr>\n",
       "  </tbody>\n",
       "</table>\n",
       "</div>"
      ],
      "text/plain": [
       "                 SP         SP\n",
       "Datasets                      \n",
       "Amazon    27.857143  26.000000\n",
       "IMDB      28.000000  28.000000\n",
       "Yelp      32.500000  26.000000\n",
       "Average   29.452381  26.666667"
      ]
     },
     "execution_count": 6,
     "metadata": {},
     "output_type": "execute_result"
    }
   ],
   "source": [
    "sp_ga = successful_performance(ga_az, ga_imdb, ga_yelp, success_thresh, runs)\n",
    "sp_kbga = successful_performance(kbga_az, kbga_imdb, kbga_yelp, success_thresh, runs)\n",
    "sp = pd.concat([sp_ga, sp_kbga], axis=1)\n",
    "sp"
   ]
  },
  {
   "attachments": {},
   "cell_type": "markdown",
   "metadata": {},
   "source": [
    "## Save as CSV"
   ]
  },
  {
   "cell_type": "code",
   "execution_count": null,
   "metadata": {},
   "outputs": [],
   "source": [
    "def f(r):\n",
    "    return r.map('{:.3f}'.format)\n",
    "\n",
    "with open('report.csv', 'wb') as rf:\n",
    "    for i in [abfv, abog, oa, el, pc, afes, sp]:\n",
    "        i = i.apply(f, axis=1)\n",
    "        i.to_csv(rf, header=True)"
   ]
  }
 ],
 "metadata": {
  "kernelspec": {
   "display_name": "tensor",
   "language": "python",
   "name": "python3"
  },
  "language_info": {
   "codemirror_mode": {
    "name": "ipython",
    "version": 3
   },
   "file_extension": ".py",
   "mimetype": "text/x-python",
   "name": "python",
   "nbconvert_exporter": "python",
   "pygments_lexer": "ipython3",
   "version": "3.10.11"
  },
  "orig_nbformat": 4
 },
 "nbformat": 4,
 "nbformat_minor": 2
}
