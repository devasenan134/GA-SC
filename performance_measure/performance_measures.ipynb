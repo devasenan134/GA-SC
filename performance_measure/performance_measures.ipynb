{
 "cells": [
  {
   "cell_type": "code",
   "execution_count": null,
   "metadata": {},
   "outputs": [],
   "source": [
    "import numpy as np\n",
    "import pandas as pd\n",
    "import matplotlib.pyplot as plt\n",
    "import pickle\n",
    "from tabulate import tabulate"
   ]
  },
  {
   "cell_type": "code",
   "execution_count": null,
   "metadata": {},
   "outputs": [],
   "source": [
    "ga_path = '../pickles/ga/'\n",
    "kbga_path = '../pickles/kbga/corrected/'"
   ]
  },
  {
   "cell_type": "code",
   "execution_count": null,
   "metadata": {},
   "outputs": [],
   "source": [
    "ga_files = ['n_run_az_100fc_ts.pkl', \n",
    "            \"n_run_az_ga_100fc_copt_avg.pkl\"]"
   ]
  },
  {
   "cell_type": "code",
   "execution_count": null,
   "metadata": {},
   "outputs": [],
   "source": [
    "kbga_files = ['n_run_az_kbga_es50_100.pkl',\n",
    "              'n_run_az_kbga_vp.pkl',\n",
    "              'n_run_az_kbga_es10_100.pkl',\n",
    "              'n_run_az_kbga_nokbps.pkl', \n",
    "              'n_run_az_kbga_cmp.pkl']"
   ]
  },
  {
   "cell_type": "code",
   "execution_count": null,
   "metadata": {},
   "outputs": [],
   "source": [
    "def average_best_fitness_value(az, imdb, yelp):\n",
    "    cols = [\"gen_\"+str(i) for i in [1, 25, 50, 75, 100]]\n",
    "    index_col = [\"Amazon\", \"IMDB\", \"Yelp\", \"Average\"]\n",
    "    \n",
    "    data = [\n",
    "        az.iloc[-1, [0, 24, 49, 74, 99]],\n",
    "        imdb.iloc[-1, [0, 24, 49, 74, 99]],\n",
    "        yelp.iloc[-1, [0, 24, 49, 74, 99]],\n",
    "        ]\n",
    "    \n",
    "    abfv = pd.DataFrame(data, columns=cols)\n",
    "    abfv = abfv.append(abfv.mean(), ignore_index=True)\n",
    "\n",
    "    abfv.index = index_col\n",
    "    abfv.index.name = \"Datasets\"\n",
    "    \n",
    "    return abfv"
   ]
  },
  {
   "cell_type": "code",
   "execution_count": null,
   "metadata": {},
   "outputs": [],
   "source": [
    "def average_best_of_generation(az, imdb, yelp):\n",
    "    cols = [\"1-25\", \"26-50\", \"51-75\", \"76-100\"]\n",
    "    index_col = [\"Amazon\", \"IMDB\", \"Yelp\", \"Average\"]\n",
    "    \n",
    "    data = [\n",
    "        [az.iloc[-1, i-25:i].mean() for i in range(25, 101, 25)],\n",
    "        [imdb.iloc[-1, i-25:i].mean() for i in range(25, 101, 25)],\n",
    "        [yelp.iloc[-1, i-25:i].mean() for i in range(25, 101, 25)],\n",
    "    ]\n",
    "\n",
    "    abog = pd.DataFrame(data, columns=cols)\n",
    "    abog = abog.append(abog.mean(), ignore_index=True)\n",
    "\n",
    "    abog.index = index_col\n",
    "    abog.index.name = \"Datasets\"\n",
    "    return abog"
   ]
  },
  {
   "cell_type": "code",
   "execution_count": null,
   "metadata": {},
   "outputs": [],
   "source": [
    "def optimization_accuracy(az, imdb, yelp):\n",
    "    cols = [\"gen_\"+str(i) for i in [1, 25, 50, 75, 100]]\n",
    "    index_col = [\"Amazon\", \"IMDB\", \"Yelp\", \"Average\"]\n",
    "    \n",
    "    mins = min(base_az.min().to_list())\n",
    "    maxs = max(base_az.max().to_list())\n",
    "    \n",
    "    data = [\n",
    "        list(map(lambda i: (i-mins)/(maxs-mins), az.iloc[-1, [0, 24, 49, 74, 99]])),\n",
    "        list(map(lambda i: (i-mins)/(maxs-mins), imdb.iloc[-1, [0, 24, 49, 74, 99]])),\n",
    "        list(map(lambda i: (i-mins)/(maxs-mins), yelp.iloc[-1, [0, 24, 49, 74, 99]])),\n",
    "    ]\n",
    "\n",
    "    oa = pd.DataFrame(data, columns=cols)\n",
    "    oa = oa.append(oa.mean(), ignore_index=True)\n",
    "\n",
    "    oa.index = index_col\n",
    "    oa.index.name = \"Datasets\"\n",
    "    return oa"
   ]
  },
  {
   "cell_type": "code",
   "execution_count": null,
   "metadata": {},
   "outputs": [],
   "source": [
    "def evolutionary_leap(base_az, runs):\n",
    "    leap = [[0, 0, 0, 0, 0]]\n",
    "    for i in range(1, 100):\n",
    "        # print(ga_az.iloc[:, i] - ga_az.iloc[:, i-1])\n",
    "        leap.append(list(map(lambda x: 1 if x != 0 else 0, base_az.iloc[:-1, i] - base_az.iloc[:-1, i-1])))\n",
    "    leap = np.transpose(leap)\n",
    "\n",
    "    indexes = [\"run_\"+str(i) for i in range(1, 5+1)]\n",
    "    leap_df = pd.DataFrame(leap, columns=base_az.columns[:-1])\n",
    "    leap_df.index = indexes\n",
    "\n",
    "    data = {\n",
    "        \"gen_25\": leap_df.iloc[:, :25].sum(axis=1),\n",
    "        \"gen_50\": leap_df.iloc[:, 25:50].sum(axis=1),\n",
    "        \"gen_75\": leap_df.iloc[:, 50:75].sum(axis=1),\n",
    "        \"gen_100\": leap_df.iloc[:, 75:].sum(axis=1)\n",
    "    }\n",
    "    \n",
    "    leap_count = pd.DataFrame(data)\n",
    "    leap_count = leap_count.append(leap_count.mean(), ignore_index=True)\n",
    "    \n",
    "    indexes = [\"run_\"+str(i) for i in range(1, runs+1)] + ['Average']\n",
    "    leap_count.index = indexes\n",
    "    leap_count.index.name = 'runs'\n",
    "    \n",
    "    return leap_count"
   ]
  },
  {
   "cell_type": "code",
   "execution_count": null,
   "metadata": {},
   "outputs": [],
   "source": [
    "leaps = evolutionary_leap(ga_az, 5)\n",
    "leaps"
   ]
  },
  {
   "cell_type": "code",
   "execution_count": null,
   "metadata": {},
   "outputs": [],
   "source": [
    "leaps.iloc[-1]/5"
   ]
  },
  {
   "cell_type": "code",
   "execution_count": null,
   "metadata": {},
   "outputs": [],
   "source": [
    "def likelihood_of_evolution_leap(az, imdb, yelp, runs):\n",
    "    cols = [\"gen_\"+str(i) for i in [25, 50, 75, 100]]\n",
    "    index_col = [\"Amazon\", \"IMDB\", \"Yelp\", \"Average\"]\n",
    "\n",
    "    az_leaps = evolutionary_leap(az, runs)\n",
    "    imdb_leaps = evolutionary_leap(imdb, runs)\n",
    "    yelp_leaps = evolutionary_leap(yelp, runs)\n",
    "\n",
    "    data = [\n",
    "        az_leaps.iloc[-1]/runs,\n",
    "        imdb_leaps.iloc[-1]/runs,\n",
    "        yelp_leaps.iloc[-1]/runs,\n",
    "    ]\n",
    "\n",
    "    el = pd.DataFrame(data, columns=cols)\n",
    "    el = el.append(el.mean(), ignore_index=True)\n",
    "\n",
    "    el.index = index_col\n",
    "    el.index.name = \"Datasets\"\n",
    "\n",
    "    return el"
   ]
  },
  {
   "cell_type": "code",
   "execution_count": null,
   "metadata": {},
   "outputs": [],
   "source": [
    "def probability_of_convergence():\n",
    "    pass"
   ]
  },
  {
   "cell_type": "code",
   "execution_count": null,
   "metadata": {},
   "outputs": [],
   "source": [
    "def average_no_of_function_evaluations():\n",
    "    pass"
   ]
  },
  {
   "cell_type": "code",
   "execution_count": null,
   "metadata": {},
   "outputs": [],
   "source": [
    "def successful_performance(az, imdb, yelp):\n",
    "    \n",
    "    pass"
   ]
  },
  {
   "cell_type": "code",
   "execution_count": null,
   "metadata": {},
   "outputs": [],
   "source": [
    "def t_test():\n",
    "    pass"
   ]
  },
  {
   "cell_type": "code",
   "execution_count": null,
   "metadata": {},
   "outputs": [],
   "source": [
    "def tabulate_runs(save_path, runs):\n",
    "    with open(save_path, 'rb') as gf:\n",
    "        data = pickle.load(gf)\n",
    "        chromos = []\n",
    "        scores = []\n",
    "        exec_time = []\n",
    "        for run in data:\n",
    "            chromos.append(run[0])\n",
    "            scores.append(run[1])\n",
    "            exec_time.append(run[2])\n",
    "\n",
    "    df = pd.DataFrame()\n",
    "    cols = [\"gen_\" + str(i) for i in range(1, 101)]\n",
    "    df[cols] = pd.DataFrame(scores)\n",
    "\n",
    "    df = pd.concat([df, pd.DataFrame({'exec_time': exec_time})], axis=1)\n",
    "    df = df.append(df.mean(), ignore_index=True)\n",
    "\n",
    "    indexes = [\"run_\"+str(i) for i in range(1, runs+1)] + ['Average']\n",
    "    df.index = indexes\n",
    "    df.index.name = 'runs'\n",
    "    \n",
    "    return df"
   ]
  },
  {
   "cell_type": "code",
   "execution_count": null,
   "metadata": {},
   "outputs": [],
   "source": [
    "runs = 5\n",
    "\n",
    "ga_az = tabulate_runs(ga_path+\"corrected/\"+ga_files[0], runs)\n",
    "kbga_az = tabulate_runs(kbga_path+kbga_files[1], runs)\n",
    "\n",
    "base_az = pd.concat([ga_az.iloc[:, :-1], kbga_az.iloc[:, :-1]], axis=1)\n",
    "base_az"
   ]
  },
  {
   "attachments": {},
   "cell_type": "markdown",
   "metadata": {},
   "source": [
    "## Measures"
   ]
  },
  {
   "cell_type": "code",
   "execution_count": null,
   "metadata": {},
   "outputs": [],
   "source": [
    "abfv_ga = average_best_fitness_value(ga_az, ga_az, ga_az)\n",
    "abfv_kbga = average_best_fitness_value(kbga_az, kbga_az, kbga_az)\n",
    "abfv = pd.concat([abfv_ga, abfv_kbga], axis=1)\n",
    "abfv"
   ]
  },
  {
   "cell_type": "code",
   "execution_count": null,
   "metadata": {},
   "outputs": [],
   "source": [
    "abog_ga = average_best_of_generation(ga_az, ga_az, ga_az)\n",
    "abog_kbga = average_best_of_generation(kbga_az, kbga_az, kbga_az)\n",
    "abog = pd.concat([abog_ga, abog_kbga], axis=1)\n",
    "abog"
   ]
  },
  {
   "cell_type": "code",
   "execution_count": null,
   "metadata": {},
   "outputs": [],
   "source": [
    "oa_ga = optimization_accuracy(ga_az, ga_az, ga_az)\n",
    "oa_kbga = optimization_accuracy(kbga_az, kbga_az, kbga_az)\n",
    "oa = pd.concat([oa_ga, oa_kbga], axis=1)\n",
    "oa"
   ]
  },
  {
   "cell_type": "code",
   "execution_count": null,
   "metadata": {},
   "outputs": [],
   "source": [
    "el_ga = likelihood_of_evolution_leap(ga_az, ga_az, ga_az, runs)\n",
    "el_kbga = likelihood_of_evolution_leap(kbga_az, kbga_az, kbga_az, runs)\n",
    "el = pd.concat([el_ga, el_kbga], axis=1)\n",
    "el"
   ]
  },
  {
   "attachments": {},
   "cell_type": "markdown",
   "metadata": {},
   "source": [
    "## Save as CSV"
   ]
  },
  {
   "cell_type": "code",
   "execution_count": null,
   "metadata": {},
   "outputs": [],
   "source": [
    "with open('report.csv', 'wb') as rf:\n",
    "    base_az.to_csv(rf)\n",
    "\n",
    "with open('report.csv', 'ab') as rf:\n",
    "    for i in [abfv, abog, oa, el]:\n",
    "        i.to_csv(rf, header=True)"
   ]
  }
 ],
 "metadata": {
  "kernelspec": {
   "display_name": "tensor",
   "language": "python",
   "name": "python3"
  },
  "language_info": {
   "codemirror_mode": {
    "name": "ipython",
    "version": 3
   },
   "file_extension": ".py",
   "mimetype": "text/x-python",
   "name": "python",
   "nbconvert_exporter": "python",
   "pygments_lexer": "ipython3",
   "version": "3.8.0"
  },
  "orig_nbformat": 4
 },
 "nbformat": 4,
 "nbformat_minor": 2
}
