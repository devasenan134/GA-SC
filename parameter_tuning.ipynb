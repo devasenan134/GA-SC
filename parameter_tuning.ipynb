{
 "cells": [
  {
   "cell_type": "code",
   "execution_count": 4,
   "metadata": {},
   "outputs": [],
   "source": [
    "import pickle\n",
    "import time\n",
    "import numpy as np\n",
    "\n",
    "from GA.evolution_utils import evolution\n",
    "from GA.evolution_utils import X_bow"
   ]
  },
  {
   "cell_type": "code",
   "execution_count": 5,
   "metadata": {},
   "outputs": [],
   "source": [
    "def run_n_evolution_pt(n):\n",
    "    prob = [0.1, 0.2, 0.3, 0.4, 0.5, 0.6, 0.7, 0.8, 0.9]\n",
    "    avg_scores = []\n",
    "    for j in prob:\n",
    "        result_n_runs = []\n",
    "        for i in range(n):\n",
    "            st = time.time()\n",
    "            chromo_set_2, score_set_2 = evolution(\n",
    "                size=100, \n",
    "                features_count=100,\n",
    "                chromo_size=X_bow.shape[1],\n",
    "                n_parents=80,\n",
    "                crossover_pb=j,\n",
    "                mutation_pb=0.05,\n",
    "                mutation_rate=0.05,\n",
    "                n_gen=100\n",
    "            )\n",
    "            et = time.time()\n",
    "            result_n_runs.append((chromo_set_2, score_set_2, et-st))\n",
    "\n",
    "        avg_acc = np.array(result_n_runs[0][1])\n",
    "        for i in result_n_runs[1:]:\n",
    "            avg_acc += i[1]\n",
    "        avg_scores.append([avg_acc/n, j])\n",
    "\n",
    "    return avg_scores"
   ]
  },
  {
   "cell_type": "code",
   "execution_count": 7,
   "metadata": {},
   "outputs": [
    {
     "name": "stdout",
     "output_type": "stream",
     "text": [
      "Best score in generation 1 : 0.616 feat_count: (100,)\n"
     ]
    },
    {
     "ename": "NameError",
     "evalue": "name 'shuffle' is not defined",
     "output_type": "error",
     "traceback": [
      "\u001b[1;31m---------------------------------------------------------------------------\u001b[0m",
      "\u001b[1;31mNameError\u001b[0m                                 Traceback (most recent call last)",
      "Cell \u001b[1;32mIn[7], line 1\u001b[0m\n\u001b[1;32m----> 1\u001b[0m pt_avg_scores \u001b[39m=\u001b[39m run_n_evolution_pt(\u001b[39m5\u001b[39;49m)\n",
      "Cell \u001b[1;32mIn[5], line 8\u001b[0m, in \u001b[0;36mrun_n_evolution_pt\u001b[1;34m(n)\u001b[0m\n\u001b[0;32m      6\u001b[0m \u001b[39mfor\u001b[39;00m i \u001b[39min\u001b[39;00m \u001b[39mrange\u001b[39m(n):\n\u001b[0;32m      7\u001b[0m     st \u001b[39m=\u001b[39m time\u001b[39m.\u001b[39mtime()\n\u001b[1;32m----> 8\u001b[0m     chromo_set_2, score_set_2 \u001b[39m=\u001b[39m evolution(\n\u001b[0;32m      9\u001b[0m         size\u001b[39m=\u001b[39;49m\u001b[39m100\u001b[39;49m, \n\u001b[0;32m     10\u001b[0m         features_count\u001b[39m=\u001b[39;49m\u001b[39m100\u001b[39;49m,\n\u001b[0;32m     11\u001b[0m         chromo_size\u001b[39m=\u001b[39;49mX_bow\u001b[39m.\u001b[39;49mshape[\u001b[39m1\u001b[39;49m],\n\u001b[0;32m     12\u001b[0m         n_parents\u001b[39m=\u001b[39;49m\u001b[39m80\u001b[39;49m,\n\u001b[0;32m     13\u001b[0m         crossover_pb\u001b[39m=\u001b[39;49mj,\n\u001b[0;32m     14\u001b[0m         mutation_pb\u001b[39m=\u001b[39;49m\u001b[39m0.05\u001b[39;49m,\n\u001b[0;32m     15\u001b[0m         mutation_rate\u001b[39m=\u001b[39;49m\u001b[39m0.05\u001b[39;49m,\n\u001b[0;32m     16\u001b[0m         n_gen\u001b[39m=\u001b[39;49m\u001b[39m100\u001b[39;49m\n\u001b[0;32m     17\u001b[0m     )\n\u001b[0;32m     18\u001b[0m     et \u001b[39m=\u001b[39m time\u001b[39m.\u001b[39mtime()\n\u001b[0;32m     19\u001b[0m     result_n_runs\u001b[39m.\u001b[39mappend((chromo_set_2, score_set_2, et\u001b[39m-\u001b[39mst))\n",
      "File \u001b[1;32mc:\\Users\\student\\Documents\\deva\\GA-SC\\GA\\evolution_utils.py:373\u001b[0m, in \u001b[0;36mevolution\u001b[1;34m(size, features_count, chromo_size, n_parents, crossover_pb, mutation_pb, mutation_rate, n_gen)\u001b[0m\n\u001b[0;32m    369\u001b[0m \u001b[39mprint\u001b[39m(\u001b[39m'\u001b[39m\u001b[39mBest score in generation\u001b[39m\u001b[39m'\u001b[39m,i\u001b[39m+\u001b[39m\u001b[39m1\u001b[39m,\u001b[39m'\u001b[39m\u001b[39m:\u001b[39m\u001b[39m'\u001b[39m,scores[\u001b[39m0\u001b[39m], \u001b[39m\"\u001b[39m\u001b[39mfeat_count:\u001b[39m\u001b[39m\"\u001b[39m, np\u001b[39m.\u001b[39mwhere(pop_after_fit[\u001b[39m0\u001b[39m] \u001b[39m!=\u001b[39m \u001b[39m0\u001b[39m)[\u001b[39m0\u001b[39m]\u001b[39m.\u001b[39mshape)\n\u001b[0;32m    371\u001b[0m pop_after_sel \u001b[39m=\u001b[39m population_selection(pop_after_fit,n_parents)\n\u001b[1;32m--> 373\u001b[0m pop_after_cross \u001b[39m=\u001b[39m single_point_crossover1(pop_after_sel, crossover_pb, n_parents)\n\u001b[0;32m    375\u001b[0m population_nextgen \u001b[39m=\u001b[39m bit_flip_mutation1(pop_after_cross, mutation_pb, mutation_rate, features_count, n_parents)\n\u001b[0;32m    377\u001b[0m \u001b[39m# new next gen population will have the evolved population + the initial population after fitness_score\u001b[39;00m\n\u001b[0;32m    378\u001b[0m \u001b[39m# _, population_new_nextgen = fitness_score(population_nextgen)\u001b[39;00m\n\u001b[0;32m    379\u001b[0m \u001b[39m# population_nextgen = population_selection(population_new_nextgen, n_parents)\u001b[39;00m\n",
      "File \u001b[1;32mc:\\Users\\student\\Documents\\deva\\GA-SC\\GA\\evolution_utils.py:252\u001b[0m, in \u001b[0;36msingle_point_crossover1\u001b[1;34m(pop_after_sel, probability, n_parents)\u001b[0m\n\u001b[0;32m    251\u001b[0m \u001b[39mdef\u001b[39;00m \u001b[39msingle_point_crossover1\u001b[39m(pop_after_sel, probability, n_parents):\n\u001b[1;32m--> 252\u001b[0m     shuffle(\u001b[39mlist\u001b[39m(pop_after_sel))\n\u001b[0;32m    253\u001b[0m     pop_nextgen \u001b[39m=\u001b[39m pop_after_sel\u001b[39m.\u001b[39mcopy()\n\u001b[0;32m    254\u001b[0m     chromo_l \u001b[39m=\u001b[39m \u001b[39mlen\u001b[39m(pop_nextgen[\u001b[39m0\u001b[39m])\n",
      "\u001b[1;31mNameError\u001b[0m: name 'shuffle' is not defined"
     ]
    }
   ],
   "source": [
    "pt_avg_scores = run_n_evolution_pt(5)"
   ]
  }
 ],
 "metadata": {
  "kernelspec": {
   "display_name": "dev-ml",
   "language": "python",
   "name": "python3"
  },
  "language_info": {
   "codemirror_mode": {
    "name": "ipython",
    "version": 3
   },
   "file_extension": ".py",
   "mimetype": "text/x-python",
   "name": "python",
   "nbconvert_exporter": "python",
   "pygments_lexer": "ipython3",
   "version": "3.10.8"
  },
  "orig_nbformat": 4,
  "vscode": {
   "interpreter": {
    "hash": "720be5bf9d441e2d6c30bd91b067816aa682de3307c54a83a56a5f6c3674f9d6"
   }
  }
 },
 "nbformat": 4,
 "nbformat_minor": 2
}
