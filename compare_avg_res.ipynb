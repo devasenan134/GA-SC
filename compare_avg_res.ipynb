{
 "cells": [
  {
   "cell_type": "code",
   "execution_count": null,
   "metadata": {},
   "outputs": [],
   "source": [
    "import matplotlib.pyplot as plt\n",
    "import seaborn as sns\n",
    "import numpy as np\n",
    "import pandas as pd\n",
    "import pickle"
   ]
  },
  {
   "cell_type": "code",
   "execution_count": null,
   "metadata": {},
   "outputs": [],
   "source": [
    "def plot_saves(file, header):\n",
    "    plt.xlabel('No. of Generations')\n",
    "    plt.ylabel('Accuracy')\n",
    "    plt.title(header)\n",
    "    \n",
    "    x = range(1, 101)\n",
    "    for run in file:\n",
    "        y = run[1]\n",
    "        plt.plot(x, y)\n",
    "\n",
    "    plt.show()"
   ]
  },
  {
   "cell_type": "code",
   "execution_count": null,
   "metadata": {},
   "outputs": [],
   "source": [
    "def compare_saves(files, legends):\n",
    "    plt.xlabel('No. of Generations')\n",
    "    plt.ylabel('Accuracy')\n",
    "    \n",
    "    x = range(1, 101)\n",
    "\n",
    "    for f in files:\n",
    "        avg_of_runs = np.array(f[0][1])\n",
    "        for i in f[1:]:\n",
    "            avg_of_runs += i[1]\n",
    "        avg_of_runs = avg_of_runs / len(f) \n",
    "\n",
    "        plt.plot(x, avg_of_runs)\n",
    "    plt.legend(legends)\n",
    "    plt.show()"
   ]
  },
  {
   "cell_type": "code",
   "execution_count": null,
   "metadata": {},
   "outputs": [],
   "source": [
    "ga_path = 'pickles/ga/30runs/'\n",
    "kbga_path = 'pickles/kbga/30runs/'\n",
    "kb_path = \"pickles/kb/\"\n",
    "de_path = 'pickles/de/'\n",
    "kbde_path = 'pickles/kbde/'"
   ]
  },
  {
   "cell_type": "code",
   "execution_count": null,
   "metadata": {},
   "outputs": [],
   "source": [
    "ga_files = ['30_run_az_ga_ts_pt.pkl',\n",
    "            '30_run_imdb_ga_ts_pt.pkl',\n",
    "            '30_run_yelp_ga_ts_pt.pkl'\n",
    "            '30_run_az_ga_ts.pkl',\n",
    "            '30_run_imdb_ga_ts.pkl',\n",
    "            '30_run_yelp_ga_ts.pkl'\n",
    "            ]"
   ]
  },
  {
   "cell_type": "code",
   "execution_count": null,
   "metadata": {},
   "outputs": [],
   "source": [
    "kb_files = ['30_run_az_kbmu_ts_pt.pkl',\n",
    "            '30_run_az_kbps_ts_pt.pkl',\n",
    "            ]"
   ]
  },
  {
   "cell_type": "code",
   "execution_count": null,
   "metadata": {},
   "outputs": [],
   "source": [
    "kbga_files = [\n",
    "            '30_run_az_kbga_vp_ts.pkl',\n",
    "            '30_run_az_kbga_es50_100_ts.pkl',\n",
    "            '30_run_imdb_kbga_vp_ts.pkl',\n",
    "            '30_run_imdb_kbga_es50_100_ts.pkl',\n",
    "            '30_run_yelp_kbga_vp_ts.pkl',\n",
    "            '30_run_yelp_kbga_es50_100_ts.pkl',\n",
    "            ]"
   ]
  },
  {
   "cell_type": "code",
   "execution_count": null,
   "metadata": {},
   "outputs": [],
   "source": [
    "de_files = [\n",
    "            '30_run_az_de.pkl',\n",
    "            'n_run_az_de_crt.pkl',\n",
    "            'n_run_az_de_crt1.pkl',\n",
    "            ]"
   ]
  },
  {
   "cell_type": "code",
   "execution_count": null,
   "metadata": {},
   "outputs": [],
   "source": [
    "kbde_files = [\n",
    "            '30_run_az_kbde.pkl',\n",
    "            'n_run_az_kbde_crt.pkl',\n",
    "            'n_run_az_kbde_crt1.pkl',\n",
    "            ]"
   ]
  },
  {
   "attachments": {},
   "cell_type": "markdown",
   "metadata": {},
   "source": [
    "## Comparison"
   ]
  },
  {
   "cell_type": "code",
   "execution_count": null,
   "metadata": {},
   "outputs": [],
   "source": [
    "rf = open(de_path+de_files[0], 'rb')\n",
    "de_30 = pickle.load(rf)\n",
    "\n",
    "rf = open(de_path+de_files[1], 'rb')\n",
    "de_5 = pickle.load(rf)\n",
    "\n",
    "rf = open(de_path+de_files[2], 'rb')\n",
    "de1_5 = pickle.load(rf)\n",
    "\n",
    "rf = open(ga_path+ga_files[0], 'rb')\n",
    "ga_30 = pickle.load(rf)\n",
    "\n",
    "rf = open(kbga_path+kbga_files[0], 'rb')\n",
    "kbga_30 = pickle.load(rf)\n",
    "\n",
    "rf = open(kbde_path+kbde_files[0], 'rb')\n",
    "kbde_5 = pickle.load(rf)\n",
    "\n",
    "rf = open(kbde_path+kbde_files[1], 'rb')\n",
    "kbde_5 = pickle.load(rf)\n",
    "\n",
    "rf = open(kbde_path+kbde_files[2], 'rb')\n",
    "kbde1_5 = pickle.load(rf)"
   ]
  },
  {
   "cell_type": "code",
   "execution_count": null,
   "metadata": {},
   "outputs": [],
   "source": [
    "legends = [\n",
    "    \"de_30\", \"de_5\", \"de1_5\",\n",
    "    \"ga_30\", \"kbga_30\", \n",
    "    \"kbde_5\", \"kbde1_5\"\n",
    "    ]\n",
    "\n",
    "compare_saves(\n",
    "    [de_30, de_5, de1_5,\n",
    "     ga_30, kbga_30, \n",
    "     kbde_5, kbde1_5], \n",
    "     legends\n",
    "     )"
   ]
  },
  {
   "cell_type": "code",
   "execution_count": null,
   "metadata": {},
   "outputs": [],
   "source": [
    "plot_saves(kbde_5, \"KBDE 5 runs with new cr\")"
   ]
  }
 ],
 "metadata": {
  "kernelspec": {
   "display_name": "dev-ml",
   "language": "python",
   "name": "python3"
  },
  "language_info": {
   "codemirror_mode": {
    "name": "ipython",
    "version": 3
   },
   "file_extension": ".py",
   "mimetype": "text/x-python",
   "name": "python",
   "nbconvert_exporter": "python",
   "pygments_lexer": "ipython3",
   "version": "3.8.0"
  },
  "orig_nbformat": 4,
  "vscode": {
   "interpreter": {
    "hash": "720be5bf9d441e2d6c30bd91b067816aa682de3307c54a83a56a5f6c3674f9d6"
   }
  }
 },
 "nbformat": 4,
 "nbformat_minor": 2
}
