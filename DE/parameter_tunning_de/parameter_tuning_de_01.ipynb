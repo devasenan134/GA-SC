{
 "cells": [
  {
   "cell_type": "code",
   "execution_count": 3,
   "metadata": {},
   "outputs": [
    {
     "name": "stderr",
     "output_type": "stream",
     "text": [
      "[nltk_data] Downloading package punkt to /Users/devasenan/nltk_data...\n",
      "[nltk_data]   Package punkt is already up-to-date!\n",
      "[nltk_data] Downloading package stopwords to\n",
      "[nltk_data]     /Users/devasenan/nltk_data...\n",
      "[nltk_data]   Package stopwords is already up-to-date!\n",
      "[nltk_data] Downloading package wordnet to\n",
      "[nltk_data]     /Users/devasenan/nltk_data...\n",
      "[nltk_data]   Package wordnet is already up-to-date!\n",
      "[nltk_data] Downloading package omw-1.4 to\n",
      "[nltk_data]     /Users/devasenan/nltk_data...\n",
      "[nltk_data]   Package omw-1.4 is already up-to-date!\n"
     ]
    }
   ],
   "source": [
    "import pickle\n",
    "import time\n",
    "import numpy as np\n",
    "\n",
    "from de_utils import evolution\n",
    "from de_utils import X_bow"
   ]
  },
  {
   "cell_type": "code",
   "execution_count": 4,
   "metadata": {},
   "outputs": [],
   "source": [
    "def run_n_evolution_pt(n):\n",
    "    f_score = [0.1]\n",
    "    co_prob = [0.1, 0.2, 0.3, 0.4, 0.5, 0.6, 0.7, 0.8, 0.9]\n",
    "    avg_scores = []\n",
    "    tune_results = []\n",
    "    for k in f_score:\n",
    "        for j in co_prob:\n",
    "            result_n_runs = []\n",
    "            for i in range(n):\n",
    "                st = time.time()\n",
    "                chromo_set_2, score_set_2 = evolution(\n",
    "                    size=100, \n",
    "                    features_count=100,\n",
    "                    chromo_size=X_bow.shape[1],\n",
    "                    n_parents=80,\n",
    "                    crossover_pb=k,\n",
    "                    f_score=j,\n",
    "                    n_gen=100\n",
    "                )\n",
    "                et = time.time()\n",
    "                result_n_runs.append((chromo_set_2, score_set_2, et-st))\n",
    "\n",
    "            tune_results.append(result_n_runs)\n",
    "            avg_acc = np.array(result_n_runs[0][1])\n",
    "            for i in result_n_runs[1:]:\n",
    "                avg_acc += i[1]\n",
    "\n",
    "            avg_scores.append([avg_acc/n, k, j])\n",
    "\n",
    "    return avg_scores, tune_results"
   ]
  },
  {
   "cell_type": "code",
   "execution_count": 5,
   "metadata": {},
   "outputs": [],
   "source": [
    "pt_avg_scores, tune_res = run_n_evolution_pt(5)"
   ]
  },
  {
   "cell_type": "code",
   "execution_count": 4,
   "metadata": {},
   "outputs": [],
   "source": [
    "import pickle\n",
    "with open('n_run_az_de_pt_avg_01.pkl', 'wb') as wf:\n",
    "    pickle.dump([pt_avg_scores, tune_res], wf)"
   ]
  }
 ],
 "metadata": {
  "kernelspec": {
   "display_name": "tensor",
   "language": "python",
   "name": "python3"
  },
  "language_info": {
   "codemirror_mode": {
    "name": "ipython",
    "version": 3
   },
   "file_extension": ".py",
   "mimetype": "text/x-python",
   "name": "python",
   "nbconvert_exporter": "python",
   "pygments_lexer": "ipython3",
   "version": "3.10.11"
  },
  "orig_nbformat": 4
 },
 "nbformat": 4,
 "nbformat_minor": 2
}
