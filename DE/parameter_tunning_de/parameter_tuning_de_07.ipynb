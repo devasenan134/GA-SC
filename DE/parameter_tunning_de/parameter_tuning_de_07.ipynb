{
 "cells": [
  {
   "cell_type": "code",
   "execution_count": 1,
   "metadata": {},
   "outputs": [
    {
     "name": "stdout",
     "output_type": "stream",
     "text": [
      "Intel MKL WARNING: Support of Intel(R) Streaming SIMD Extensions 4.2 (Intel(R) SSE4.2) enabled only processors has been deprecated. Intel oneAPI Math Kernel Library 2025.0 will require Intel(R) Advanced Vector Extensions (Intel(R) AVX) instructions.\n",
      "Intel MKL WARNING: Support of Intel(R) Streaming SIMD Extensions 4.2 (Intel(R) SSE4.2) enabled only processors has been deprecated. Intel oneAPI Math Kernel Library 2025.0 will require Intel(R) Advanced Vector Extensions (Intel(R) AVX) instructions.\n"
     ]
    },
    {
     "name": "stderr",
     "output_type": "stream",
     "text": [
      "[nltk_data] Downloading package punkt to /Users/devasenan/nltk_data...\n",
      "[nltk_data]   Package punkt is already up-to-date!\n",
      "[nltk_data] Downloading package stopwords to\n",
      "[nltk_data]     /Users/devasenan/nltk_data...\n",
      "[nltk_data]   Package stopwords is already up-to-date!\n",
      "[nltk_data] Downloading package wordnet to\n",
      "[nltk_data]     /Users/devasenan/nltk_data...\n",
      "[nltk_data]   Package wordnet is already up-to-date!\n",
      "[nltk_data] Downloading package omw-1.4 to\n",
      "[nltk_data]     /Users/devasenan/nltk_data...\n",
      "[nltk_data]   Package omw-1.4 is already up-to-date!\n"
     ]
    }
   ],
   "source": [
    "import pickle\n",
    "import time\n",
    "import numpy as np\n",
    "\n",
    "from de_utils import evolution\n",
    "from de_utils import X_bow"
   ]
  },
  {
   "cell_type": "code",
   "execution_count": 2,
   "metadata": {},
   "outputs": [],
   "source": [
    "def run_n_evolution_pt(n):\n",
    "    f_score = [0.7]\n",
    "    co_prob = [0.1, 0.2, 0.3, 0.4, 0.5, 0.6, 0.7, 0.8, 0.9]\n",
    "    avg_scores = []\n",
    "    tune_results = []\n",
    "    for k in f_score:\n",
    "        for j in co_prob:\n",
    "            result_n_runs = []\n",
    "            for i in range(n):\n",
    "                st = time.time()\n",
    "                chromo_set_2, score_set_2 = evolution(\n",
    "                    size=100, \n",
    "                    features_count=100,\n",
    "                    chromo_size=X_bow.shape[1],\n",
    "                    n_parents=80,\n",
    "                    crossover_pb=j,\n",
    "                    f_score=k,\n",
    "                    n_gen=100\n",
    "                )\n",
    "                et = time.time()\n",
    "                result_n_runs.append((chromo_set_2, score_set_2, et-st))\n",
    "\n",
    "            tune_results.append(result_n_runs)\n",
    "            avg_acc = np.array(result_n_runs[0][1])\n",
    "            for i in result_n_runs[1:]:\n",
    "                avg_acc += i[1]\n",
    "\n",
    "            avg_scores.append([avg_acc/n, k, j])\n",
    "\n",
    "    return avg_scores, tune_results"
   ]
  },
  {
   "cell_type": "code",
   "execution_count": 3,
   "metadata": {},
   "outputs": [
    {
     "name": "stdout",
     "output_type": "stream",
     "text": [
      "Best score in generation 1 : 0.632 feat_count: (100,)\n",
      "Population size: 100\n",
      "Best score in generation 2 : 0.64 feat_count: (93,)\n",
      "Population size: 100\n",
      "Best score in generation 3 : 0.648 feat_count: (93,)\n",
      "Population size: 100\n",
      "Best score in generation 4 : 0.648 feat_count: (94,)\n",
      "Population size: 100\n",
      "Best score in generation 5 : 0.648 feat_count: (94,)\n",
      "Population size: 100\n",
      "Best score in generation 6 : 0.664 feat_count: (102,)\n",
      "Population size: 100\n",
      "Best score in generation 7 : 0.664 feat_count: (102,)\n",
      "Population size: 100\n",
      "Best score in generation 8 : 0.644 feat_count: (96,)\n",
      "Population size: 100\n",
      "Best score in generation 9 : 0.664 feat_count: (101,)\n",
      "Population size: 100\n",
      "Best score in generation 10 : 0.664 feat_count: (101,)\n",
      "Population size: 100\n",
      "Best score in generation 11 : 0.672 feat_count: (103,)\n",
      "Population size: 100\n",
      "Best score in generation 12 : 0.684 feat_count: (108,)\n",
      "Population size: 100\n",
      "Best score in generation 13 : 0.684 feat_count: (100,)\n",
      "Population size: 100\n",
      "Best score in generation 14 : 0.684 feat_count: (100,)\n",
      "Population size: 100\n",
      "Best score in generation 15 : 0.684 feat_count: (103,)\n",
      "Population size: 100\n",
      "Best score in generation 16 : 0.684 feat_count: (103,)\n",
      "Population size: 100\n",
      "Best score in generation 17 : 0.684 feat_count: (98,)\n",
      "Population size: 100\n",
      "Best score in generation 18 : 0.692 feat_count: (101,)\n",
      "Population size: 100\n",
      "Best score in generation 19 : 0.692 feat_count: (103,)\n",
      "Population size: 100\n",
      "Best score in generation 20 : 0.696 feat_count: (101,)\n",
      "Population size: 100\n",
      "Best score in generation 21 : 0.708 feat_count: (100,)\n",
      "Population size: 100\n",
      "Best score in generation 22 : 0.708 feat_count: (100,)\n",
      "Population size: 100\n",
      "Best score in generation 23 : 0.7 feat_count: (98,)\n",
      "Population size: 100\n",
      "Best score in generation 24 : 0.7 feat_count: (106,)\n"
     ]
    },
    {
     "ename": "KeyboardInterrupt",
     "evalue": "",
     "output_type": "error",
     "traceback": [
      "\u001b[0;31m---------------------------------------------------------------------------\u001b[0m",
      "\u001b[0;31mKeyboardInterrupt\u001b[0m                         Traceback (most recent call last)",
      "Cell \u001b[0;32mIn[3], line 1\u001b[0m\n\u001b[0;32m----> 1\u001b[0m pt_avg_scores, tune_res \u001b[39m=\u001b[39m run_n_evolution_pt(\u001b[39m5\u001b[39;49m)\n",
      "Cell \u001b[0;32mIn[2], line 11\u001b[0m, in \u001b[0;36mrun_n_evolution_pt\u001b[0;34m(n)\u001b[0m\n\u001b[1;32m      9\u001b[0m \u001b[39mfor\u001b[39;00m i \u001b[39min\u001b[39;00m \u001b[39mrange\u001b[39m(n):\n\u001b[1;32m     10\u001b[0m     st \u001b[39m=\u001b[39m time\u001b[39m.\u001b[39mtime()\n\u001b[0;32m---> 11\u001b[0m     chromo_set_2, score_set_2 \u001b[39m=\u001b[39m evolution(\n\u001b[1;32m     12\u001b[0m         size\u001b[39m=\u001b[39;49m\u001b[39m100\u001b[39;49m, \n\u001b[1;32m     13\u001b[0m         features_count\u001b[39m=\u001b[39;49m\u001b[39m100\u001b[39;49m,\n\u001b[1;32m     14\u001b[0m         chromo_size\u001b[39m=\u001b[39;49mX_bow\u001b[39m.\u001b[39;49mshape[\u001b[39m1\u001b[39;49m],\n\u001b[1;32m     15\u001b[0m         n_parents\u001b[39m=\u001b[39;49m\u001b[39m80\u001b[39;49m,\n\u001b[1;32m     16\u001b[0m         crossover_pb\u001b[39m=\u001b[39;49mk,\n\u001b[1;32m     17\u001b[0m         f_score\u001b[39m=\u001b[39;49mj,\n\u001b[1;32m     18\u001b[0m         n_gen\u001b[39m=\u001b[39;49m\u001b[39m100\u001b[39;49m\n\u001b[1;32m     19\u001b[0m     )\n\u001b[1;32m     20\u001b[0m     et \u001b[39m=\u001b[39m time\u001b[39m.\u001b[39mtime()\n\u001b[1;32m     21\u001b[0m     result_n_runs\u001b[39m.\u001b[39mappend((chromo_set_2, score_set_2, et\u001b[39m-\u001b[39mst))\n",
      "File \u001b[0;32m~/Documents/projects/GA-SC/DE/parameter_tunning_de/de_utils.py:257\u001b[0m, in \u001b[0;36mevolution\u001b[0;34m(size, features_count, chromo_size, n_parents, crossover_pb, f_score, n_gen)\u001b[0m\n\u001b[1;32m    254\u001b[0m     best_score\u001b[39m.\u001b[39mappend(scores[\u001b[39m0\u001b[39m])\n\u001b[1;32m    255\u001b[0m     \u001b[39mprint\u001b[39m(\u001b[39m'\u001b[39m\u001b[39mBest score in generation\u001b[39m\u001b[39m'\u001b[39m,i\u001b[39m+\u001b[39m\u001b[39m1\u001b[39m,\u001b[39m'\u001b[39m\u001b[39m:\u001b[39m\u001b[39m'\u001b[39m,scores[\u001b[39m0\u001b[39m], \u001b[39m\"\u001b[39m\u001b[39mfeat_count:\u001b[39m\u001b[39m\"\u001b[39m, np\u001b[39m.\u001b[39mwhere(pop_after_fit[\u001b[39m0\u001b[39m] \u001b[39m!=\u001b[39m \u001b[39m0\u001b[39m)[\u001b[39m0\u001b[39m]\u001b[39m.\u001b[39mshape)\n\u001b[0;32m--> 257\u001b[0m     population_nextgen \u001b[39m=\u001b[39m de_mutation(population_nextgen\u001b[39m.\u001b[39;49mcopy(), crossover_pb, f_score, n_parents)\n\u001b[1;32m    259\u001b[0m     \u001b[39mprint\u001b[39m(\u001b[39m\"\u001b[39m\u001b[39mPopulation size:\u001b[39m\u001b[39m\"\u001b[39m, \u001b[39mlen\u001b[39m(population_nextgen))\n\u001b[1;32m    261\u001b[0m \u001b[39mreturn\u001b[39;00m best_chromo,best_score\n",
      "File \u001b[0;32m~/Documents/projects/GA-SC/DE/parameter_tunning_de/de_utils.py:233\u001b[0m, in \u001b[0;36mde_mutation\u001b[0;34m(pop_after_fit, co_probability, f_score, n_parents)\u001b[0m\n\u001b[1;32m    230\u001b[0m     trail_vec \u001b[39m=\u001b[39m np\u001b[39m.\u001b[39marray([\u001b[39m1\u001b[39m \u001b[39mif\u001b[39;00m i \u001b[39min\u001b[39;00m features \u001b[39melse\u001b[39;00m \u001b[39m0\u001b[39m \u001b[39mfor\u001b[39;00m i \u001b[39min\u001b[39;00m \u001b[39mrange\u001b[39m(chromo_len)])\n\u001b[1;32m    231\u001b[0m     trail_vec \u001b[39m=\u001b[39m trail_vec\u001b[39m.\u001b[39mastype(\u001b[39mint\u001b[39m)\n\u001b[0;32m--> 233\u001b[0m     new_trail \u001b[39m=\u001b[39m de_crossover(target_vec, trail_vec, co_probability)   \n\u001b[1;32m    235\u001b[0m     pop_nextgen\u001b[39m.\u001b[39mappend(new_trail)\n\u001b[1;32m    237\u001b[0m \u001b[39mreturn\u001b[39;00m pop_nextgen\n",
      "File \u001b[0;32m~/Documents/projects/GA-SC/DE/parameter_tunning_de/de_utils.py:196\u001b[0m, in \u001b[0;36mde_crossover\u001b[0;34m(parent1, parent2, probability)\u001b[0m\n\u001b[1;32m    192\u001b[0m features\u001b[39m.\u001b[39msort()\n\u001b[1;32m    194\u001b[0m new_child \u001b[39m=\u001b[39m np\u001b[39m.\u001b[39marray([\u001b[39m1\u001b[39m \u001b[39mif\u001b[39;00m i \u001b[39min\u001b[39;00m features \u001b[39melse\u001b[39;00m \u001b[39m0\u001b[39m \u001b[39mfor\u001b[39;00m i \u001b[39min\u001b[39;00m \u001b[39mrange\u001b[39m(chromo_len)])\n\u001b[0;32m--> 196\u001b[0m \u001b[39mreturn\u001b[39;00m de_fitness([new_child, parent_2])[\u001b[39m1\u001b[39m]\n",
      "File \u001b[0;32m~/Documents/projects/GA-SC/DE/parameter_tunning_de/de_utils.py:161\u001b[0m, in \u001b[0;36mde_fitness\u001b[0;34m(chromo_set)\u001b[0m\n\u001b[1;32m    159\u001b[0m \u001b[39mfor\u001b[39;00m chromo \u001b[39min\u001b[39;00m chromo_set:\n\u001b[1;32m    160\u001b[0m     features \u001b[39m=\u001b[39m np\u001b[39m.\u001b[39mwhere(chromo\u001b[39m!=\u001b[39m\u001b[39m0\u001b[39m)[\u001b[39m0\u001b[39m]\n\u001b[0;32m--> 161\u001b[0m     logmodel\u001b[39m.\u001b[39;49mfit(X_train[:,features],Y_train)         \n\u001b[1;32m    162\u001b[0m     predictions \u001b[39m=\u001b[39m logmodel\u001b[39m.\u001b[39mpredict(X_test[:,features])\n\u001b[1;32m    163\u001b[0m     score \u001b[39m=\u001b[39m  accuracy_score(Y_test,predictions)\n",
      "File \u001b[0;32m~/opt/anaconda3/envs/tensor/lib/python3.10/site-packages/sklearn/ensemble/_forest.py:462\u001b[0m, in \u001b[0;36mBaseForest.fit\u001b[0;34m(self, X, y, sample_weight)\u001b[0m\n\u001b[1;32m    457\u001b[0m \u001b[39mif\u001b[39;00m \u001b[39mself\u001b[39m\u001b[39m.\u001b[39mwarm_start \u001b[39mand\u001b[39;00m \u001b[39mlen\u001b[39m(\u001b[39mself\u001b[39m\u001b[39m.\u001b[39mestimators_) \u001b[39m>\u001b[39m \u001b[39m0\u001b[39m:\n\u001b[1;32m    458\u001b[0m     \u001b[39m# We draw from the random state to get the random state we\u001b[39;00m\n\u001b[1;32m    459\u001b[0m     \u001b[39m# would have got if we hadn't used a warm_start.\u001b[39;00m\n\u001b[1;32m    460\u001b[0m     random_state\u001b[39m.\u001b[39mrandint(MAX_INT, size\u001b[39m=\u001b[39m\u001b[39mlen\u001b[39m(\u001b[39mself\u001b[39m\u001b[39m.\u001b[39mestimators_))\n\u001b[0;32m--> 462\u001b[0m trees \u001b[39m=\u001b[39m [\n\u001b[1;32m    463\u001b[0m     \u001b[39mself\u001b[39m\u001b[39m.\u001b[39m_make_estimator(append\u001b[39m=\u001b[39m\u001b[39mFalse\u001b[39;00m, random_state\u001b[39m=\u001b[39mrandom_state)\n\u001b[1;32m    464\u001b[0m     \u001b[39mfor\u001b[39;00m i \u001b[39min\u001b[39;00m \u001b[39mrange\u001b[39m(n_more_estimators)\n\u001b[1;32m    465\u001b[0m ]\n\u001b[1;32m    467\u001b[0m \u001b[39m# Parallel loop: we prefer the threading backend as the Cython code\u001b[39;00m\n\u001b[1;32m    468\u001b[0m \u001b[39m# for fitting the trees is internally releasing the Python GIL\u001b[39;00m\n\u001b[1;32m    469\u001b[0m \u001b[39m# making threading more efficient than multiprocessing in\u001b[39;00m\n\u001b[1;32m    470\u001b[0m \u001b[39m# that case. However, for joblib 0.12+ we respect any\u001b[39;00m\n\u001b[1;32m    471\u001b[0m \u001b[39m# parallel_backend contexts set at a higher level,\u001b[39;00m\n\u001b[1;32m    472\u001b[0m \u001b[39m# since correctness does not rely on using threads.\u001b[39;00m\n\u001b[1;32m    473\u001b[0m trees \u001b[39m=\u001b[39m Parallel(\n\u001b[1;32m    474\u001b[0m     n_jobs\u001b[39m=\u001b[39m\u001b[39mself\u001b[39m\u001b[39m.\u001b[39mn_jobs,\n\u001b[1;32m    475\u001b[0m     verbose\u001b[39m=\u001b[39m\u001b[39mself\u001b[39m\u001b[39m.\u001b[39mverbose,\n\u001b[0;32m   (...)\u001b[0m\n\u001b[1;32m    490\u001b[0m     \u001b[39mfor\u001b[39;00m i, t \u001b[39min\u001b[39;00m \u001b[39menumerate\u001b[39m(trees)\n\u001b[1;32m    491\u001b[0m )\n",
      "File \u001b[0;32m~/opt/anaconda3/envs/tensor/lib/python3.10/site-packages/sklearn/ensemble/_forest.py:463\u001b[0m, in \u001b[0;36m<listcomp>\u001b[0;34m(.0)\u001b[0m\n\u001b[1;32m    457\u001b[0m \u001b[39mif\u001b[39;00m \u001b[39mself\u001b[39m\u001b[39m.\u001b[39mwarm_start \u001b[39mand\u001b[39;00m \u001b[39mlen\u001b[39m(\u001b[39mself\u001b[39m\u001b[39m.\u001b[39mestimators_) \u001b[39m>\u001b[39m \u001b[39m0\u001b[39m:\n\u001b[1;32m    458\u001b[0m     \u001b[39m# We draw from the random state to get the random state we\u001b[39;00m\n\u001b[1;32m    459\u001b[0m     \u001b[39m# would have got if we hadn't used a warm_start.\u001b[39;00m\n\u001b[1;32m    460\u001b[0m     random_state\u001b[39m.\u001b[39mrandint(MAX_INT, size\u001b[39m=\u001b[39m\u001b[39mlen\u001b[39m(\u001b[39mself\u001b[39m\u001b[39m.\u001b[39mestimators_))\n\u001b[1;32m    462\u001b[0m trees \u001b[39m=\u001b[39m [\n\u001b[0;32m--> 463\u001b[0m     \u001b[39mself\u001b[39;49m\u001b[39m.\u001b[39;49m_make_estimator(append\u001b[39m=\u001b[39;49m\u001b[39mFalse\u001b[39;49;00m, random_state\u001b[39m=\u001b[39;49mrandom_state)\n\u001b[1;32m    464\u001b[0m     \u001b[39mfor\u001b[39;00m i \u001b[39min\u001b[39;00m \u001b[39mrange\u001b[39m(n_more_estimators)\n\u001b[1;32m    465\u001b[0m ]\n\u001b[1;32m    467\u001b[0m \u001b[39m# Parallel loop: we prefer the threading backend as the Cython code\u001b[39;00m\n\u001b[1;32m    468\u001b[0m \u001b[39m# for fitting the trees is internally releasing the Python GIL\u001b[39;00m\n\u001b[1;32m    469\u001b[0m \u001b[39m# making threading more efficient than multiprocessing in\u001b[39;00m\n\u001b[1;32m    470\u001b[0m \u001b[39m# that case. However, for joblib 0.12+ we respect any\u001b[39;00m\n\u001b[1;32m    471\u001b[0m \u001b[39m# parallel_backend contexts set at a higher level,\u001b[39;00m\n\u001b[1;32m    472\u001b[0m \u001b[39m# since correctness does not rely on using threads.\u001b[39;00m\n\u001b[1;32m    473\u001b[0m trees \u001b[39m=\u001b[39m Parallel(\n\u001b[1;32m    474\u001b[0m     n_jobs\u001b[39m=\u001b[39m\u001b[39mself\u001b[39m\u001b[39m.\u001b[39mn_jobs,\n\u001b[1;32m    475\u001b[0m     verbose\u001b[39m=\u001b[39m\u001b[39mself\u001b[39m\u001b[39m.\u001b[39mverbose,\n\u001b[0;32m   (...)\u001b[0m\n\u001b[1;32m    490\u001b[0m     \u001b[39mfor\u001b[39;00m i, t \u001b[39min\u001b[39;00m \u001b[39menumerate\u001b[39m(trees)\n\u001b[1;32m    491\u001b[0m )\n",
      "File \u001b[0;32m~/opt/anaconda3/envs/tensor/lib/python3.10/site-packages/sklearn/ensemble/_base.py:193\u001b[0m, in \u001b[0;36mBaseEnsemble._make_estimator\u001b[0;34m(self, append, random_state)\u001b[0m\n\u001b[1;32m    187\u001b[0m \u001b[39m\u001b[39m\u001b[39m\"\"\"Make and configure a copy of the `estimator_` attribute.\u001b[39;00m\n\u001b[1;32m    188\u001b[0m \n\u001b[1;32m    189\u001b[0m \u001b[39mWarning: This method should be used to properly instantiate new\u001b[39;00m\n\u001b[1;32m    190\u001b[0m \u001b[39msub-estimators.\u001b[39;00m\n\u001b[1;32m    191\u001b[0m \u001b[39m\"\"\"\u001b[39;00m\n\u001b[1;32m    192\u001b[0m estimator \u001b[39m=\u001b[39m clone(\u001b[39mself\u001b[39m\u001b[39m.\u001b[39mestimator_)\n\u001b[0;32m--> 193\u001b[0m estimator\u001b[39m.\u001b[39;49mset_params(\u001b[39m*\u001b[39;49m\u001b[39m*\u001b[39;49m{p: \u001b[39mgetattr\u001b[39;49m(\u001b[39mself\u001b[39;49m, p) \u001b[39mfor\u001b[39;49;00m p \u001b[39min\u001b[39;49;00m \u001b[39mself\u001b[39;49m\u001b[39m.\u001b[39;49mestimator_params})\n\u001b[1;32m    195\u001b[0m \u001b[39m# TODO(1.3): Remove\u001b[39;00m\n\u001b[1;32m    196\u001b[0m \u001b[39m# max_features = 'auto' would cause warnings in every call to\u001b[39;00m\n\u001b[1;32m    197\u001b[0m \u001b[39m# Tree.fit(..)\u001b[39;00m\n\u001b[1;32m    198\u001b[0m \u001b[39mif\u001b[39;00m \u001b[39misinstance\u001b[39m(estimator, BaseDecisionTree):\n",
      "File \u001b[0;32m~/opt/anaconda3/envs/tensor/lib/python3.10/site-packages/sklearn/base.py:198\u001b[0m, in \u001b[0;36mBaseEstimator.set_params\u001b[0;34m(self, **params)\u001b[0m\n\u001b[1;32m    195\u001b[0m \u001b[39mif\u001b[39;00m \u001b[39mnot\u001b[39;00m params:\n\u001b[1;32m    196\u001b[0m     \u001b[39m# Simple optimization to gain speed (inspect is slow)\u001b[39;00m\n\u001b[1;32m    197\u001b[0m     \u001b[39mreturn\u001b[39;00m \u001b[39mself\u001b[39m\n\u001b[0;32m--> 198\u001b[0m valid_params \u001b[39m=\u001b[39m \u001b[39mself\u001b[39;49m\u001b[39m.\u001b[39;49mget_params(deep\u001b[39m=\u001b[39;49m\u001b[39mTrue\u001b[39;49;00m)\n\u001b[1;32m    200\u001b[0m nested_params \u001b[39m=\u001b[39m defaultdict(\u001b[39mdict\u001b[39m)  \u001b[39m# grouped by prefix\u001b[39;00m\n\u001b[1;32m    201\u001b[0m \u001b[39mfor\u001b[39;00m key, value \u001b[39min\u001b[39;00m params\u001b[39m.\u001b[39mitems():\n",
      "File \u001b[0;32m~/opt/anaconda3/envs/tensor/lib/python3.10/site-packages/sklearn/base.py:169\u001b[0m, in \u001b[0;36mBaseEstimator.get_params\u001b[0;34m(self, deep)\u001b[0m\n\u001b[1;32m    154\u001b[0m \u001b[39m\u001b[39m\u001b[39m\"\"\"\u001b[39;00m\n\u001b[1;32m    155\u001b[0m \u001b[39mGet parameters for this estimator.\u001b[39;00m\n\u001b[1;32m    156\u001b[0m \n\u001b[0;32m   (...)\u001b[0m\n\u001b[1;32m    166\u001b[0m \u001b[39m    Parameter names mapped to their values.\u001b[39;00m\n\u001b[1;32m    167\u001b[0m \u001b[39m\"\"\"\u001b[39;00m\n\u001b[1;32m    168\u001b[0m out \u001b[39m=\u001b[39m \u001b[39mdict\u001b[39m()\n\u001b[0;32m--> 169\u001b[0m \u001b[39mfor\u001b[39;00m key \u001b[39min\u001b[39;00m \u001b[39mself\u001b[39;49m\u001b[39m.\u001b[39;49m_get_param_names():\n\u001b[1;32m    170\u001b[0m     value \u001b[39m=\u001b[39m \u001b[39mgetattr\u001b[39m(\u001b[39mself\u001b[39m, key)\n\u001b[1;32m    171\u001b[0m     \u001b[39mif\u001b[39;00m deep \u001b[39mand\u001b[39;00m \u001b[39mhasattr\u001b[39m(value, \u001b[39m\"\u001b[39m\u001b[39mget_params\u001b[39m\u001b[39m\"\u001b[39m) \u001b[39mand\u001b[39;00m \u001b[39mnot\u001b[39;00m \u001b[39misinstance\u001b[39m(value, \u001b[39mtype\u001b[39m):\n",
      "File \u001b[0;32m~/opt/anaconda3/envs/tensor/lib/python3.10/site-packages/sklearn/base.py:134\u001b[0m, in \u001b[0;36mBaseEstimator._get_param_names\u001b[0;34m(cls)\u001b[0m\n\u001b[1;32m    130\u001b[0m     \u001b[39mreturn\u001b[39;00m []\n\u001b[1;32m    132\u001b[0m \u001b[39m# introspect the constructor arguments to find the model parameters\u001b[39;00m\n\u001b[1;32m    133\u001b[0m \u001b[39m# to represent\u001b[39;00m\n\u001b[0;32m--> 134\u001b[0m init_signature \u001b[39m=\u001b[39m inspect\u001b[39m.\u001b[39;49msignature(init)\n\u001b[1;32m    135\u001b[0m \u001b[39m# Consider the constructor parameters excluding 'self'\u001b[39;00m\n\u001b[1;32m    136\u001b[0m parameters \u001b[39m=\u001b[39m [\n\u001b[1;32m    137\u001b[0m     p\n\u001b[1;32m    138\u001b[0m     \u001b[39mfor\u001b[39;00m p \u001b[39min\u001b[39;00m init_signature\u001b[39m.\u001b[39mparameters\u001b[39m.\u001b[39mvalues()\n\u001b[1;32m    139\u001b[0m     \u001b[39mif\u001b[39;00m p\u001b[39m.\u001b[39mname \u001b[39m!=\u001b[39m \u001b[39m\"\u001b[39m\u001b[39mself\u001b[39m\u001b[39m\"\u001b[39m \u001b[39mand\u001b[39;00m p\u001b[39m.\u001b[39mkind \u001b[39m!=\u001b[39m p\u001b[39m.\u001b[39mVAR_KEYWORD\n\u001b[1;32m    140\u001b[0m ]\n",
      "File \u001b[0;32m~/opt/anaconda3/envs/tensor/lib/python3.10/inspect.py:3254\u001b[0m, in \u001b[0;36msignature\u001b[0;34m(obj, follow_wrapped, globals, locals, eval_str)\u001b[0m\n\u001b[1;32m   3252\u001b[0m \u001b[39mdef\u001b[39;00m \u001b[39msignature\u001b[39m(obj, \u001b[39m*\u001b[39m, follow_wrapped\u001b[39m=\u001b[39m\u001b[39mTrue\u001b[39;00m, \u001b[39mglobals\u001b[39m\u001b[39m=\u001b[39m\u001b[39mNone\u001b[39;00m, \u001b[39mlocals\u001b[39m\u001b[39m=\u001b[39m\u001b[39mNone\u001b[39;00m, eval_str\u001b[39m=\u001b[39m\u001b[39mFalse\u001b[39;00m):\n\u001b[1;32m   3253\u001b[0m \u001b[39m    \u001b[39m\u001b[39m\"\"\"Get a signature object for the passed callable.\"\"\"\u001b[39;00m\n\u001b[0;32m-> 3254\u001b[0m     \u001b[39mreturn\u001b[39;00m Signature\u001b[39m.\u001b[39;49mfrom_callable(obj, follow_wrapped\u001b[39m=\u001b[39;49mfollow_wrapped,\n\u001b[1;32m   3255\u001b[0m                                    \u001b[39mglobals\u001b[39;49m\u001b[39m=\u001b[39;49m\u001b[39mglobals\u001b[39;49m, \u001b[39mlocals\u001b[39;49m\u001b[39m=\u001b[39;49m\u001b[39mlocals\u001b[39;49m, eval_str\u001b[39m=\u001b[39;49meval_str)\n",
      "File \u001b[0;32m~/opt/anaconda3/envs/tensor/lib/python3.10/inspect.py:3002\u001b[0m, in \u001b[0;36mSignature.from_callable\u001b[0;34m(cls, obj, follow_wrapped, globals, locals, eval_str)\u001b[0m\n\u001b[1;32m   2998\u001b[0m \u001b[39m@classmethod\u001b[39m\n\u001b[1;32m   2999\u001b[0m \u001b[39mdef\u001b[39;00m \u001b[39mfrom_callable\u001b[39m(\u001b[39mcls\u001b[39m, obj, \u001b[39m*\u001b[39m,\n\u001b[1;32m   3000\u001b[0m                   follow_wrapped\u001b[39m=\u001b[39m\u001b[39mTrue\u001b[39;00m, \u001b[39mglobals\u001b[39m\u001b[39m=\u001b[39m\u001b[39mNone\u001b[39;00m, \u001b[39mlocals\u001b[39m\u001b[39m=\u001b[39m\u001b[39mNone\u001b[39;00m, eval_str\u001b[39m=\u001b[39m\u001b[39mFalse\u001b[39;00m):\n\u001b[1;32m   3001\u001b[0m \u001b[39m    \u001b[39m\u001b[39m\"\"\"Constructs Signature for the given callable object.\"\"\"\u001b[39;00m\n\u001b[0;32m-> 3002\u001b[0m     \u001b[39mreturn\u001b[39;00m _signature_from_callable(obj, sigcls\u001b[39m=\u001b[39;49m\u001b[39mcls\u001b[39;49m,\n\u001b[1;32m   3003\u001b[0m                                     follow_wrapper_chains\u001b[39m=\u001b[39;49mfollow_wrapped,\n\u001b[1;32m   3004\u001b[0m                                     \u001b[39mglobals\u001b[39;49m\u001b[39m=\u001b[39;49m\u001b[39mglobals\u001b[39;49m, \u001b[39mlocals\u001b[39;49m\u001b[39m=\u001b[39;49m\u001b[39mlocals\u001b[39;49m, eval_str\u001b[39m=\u001b[39;49meval_str)\n",
      "File \u001b[0;32m~/opt/anaconda3/envs/tensor/lib/python3.10/inspect.py:2463\u001b[0m, in \u001b[0;36m_signature_from_callable\u001b[0;34m(obj, follow_wrapper_chains, skip_bound_arg, globals, locals, eval_str, sigcls)\u001b[0m\n\u001b[1;32m   2458\u001b[0m             \u001b[39mreturn\u001b[39;00m sig\u001b[39m.\u001b[39mreplace(parameters\u001b[39m=\u001b[39mnew_params)\n\u001b[1;32m   2460\u001b[0m \u001b[39mif\u001b[39;00m isfunction(obj) \u001b[39mor\u001b[39;00m _signature_is_functionlike(obj):\n\u001b[1;32m   2461\u001b[0m     \u001b[39m# If it's a pure Python function, or an object that is duck type\u001b[39;00m\n\u001b[1;32m   2462\u001b[0m     \u001b[39m# of a Python function (Cython functions, for instance), then:\u001b[39;00m\n\u001b[0;32m-> 2463\u001b[0m     \u001b[39mreturn\u001b[39;00m _signature_from_function(sigcls, obj,\n\u001b[1;32m   2464\u001b[0m                                     skip_bound_arg\u001b[39m=\u001b[39;49mskip_bound_arg,\n\u001b[1;32m   2465\u001b[0m                                     \u001b[39mglobals\u001b[39;49m\u001b[39m=\u001b[39;49m\u001b[39mglobals\u001b[39;49m, \u001b[39mlocals\u001b[39;49m\u001b[39m=\u001b[39;49m\u001b[39mlocals\u001b[39;49m, eval_str\u001b[39m=\u001b[39;49meval_str)\n\u001b[1;32m   2467\u001b[0m \u001b[39mif\u001b[39;00m _signature_is_builtin(obj):\n\u001b[1;32m   2468\u001b[0m     \u001b[39mreturn\u001b[39;00m _signature_from_builtin(sigcls, obj,\n\u001b[1;32m   2469\u001b[0m                                    skip_bound_arg\u001b[39m=\u001b[39mskip_bound_arg)\n",
      "File \u001b[0;32m~/opt/anaconda3/envs/tensor/lib/python3.10/inspect.py:2325\u001b[0m, in \u001b[0;36m_signature_from_function\u001b[0;34m(cls, func, skip_bound_arg, globals, locals, eval_str)\u001b[0m\n\u001b[1;32m   2323\u001b[0m kind \u001b[39m=\u001b[39m _POSITIONAL_ONLY \u001b[39mif\u001b[39;00m posonly_left \u001b[39melse\u001b[39;00m _POSITIONAL_OR_KEYWORD\n\u001b[1;32m   2324\u001b[0m annotation \u001b[39m=\u001b[39m annotations\u001b[39m.\u001b[39mget(name, _empty)\n\u001b[0;32m-> 2325\u001b[0m parameters\u001b[39m.\u001b[39mappend(Parameter(name, annotation\u001b[39m=\u001b[39;49mannotation,\n\u001b[1;32m   2326\u001b[0m                             kind\u001b[39m=\u001b[39;49mkind))\n\u001b[1;32m   2327\u001b[0m \u001b[39mif\u001b[39;00m posonly_left:\n\u001b[1;32m   2328\u001b[0m     posonly_left \u001b[39m-\u001b[39m\u001b[39m=\u001b[39m \u001b[39m1\u001b[39m\n",
      "File \u001b[0;32m~/opt/anaconda3/envs/tensor/lib/python3.10/inspect.py:2642\u001b[0m, in \u001b[0;36mParameter.__init__\u001b[0;34m(self, name, kind, default, annotation)\u001b[0m\n\u001b[1;32m   2640\u001b[0m \u001b[39mexcept\u001b[39;00m \u001b[39mValueError\u001b[39;00m:\n\u001b[1;32m   2641\u001b[0m     \u001b[39mraise\u001b[39;00m \u001b[39mValueError\u001b[39;00m(\u001b[39mf\u001b[39m\u001b[39m'\u001b[39m\u001b[39mvalue \u001b[39m\u001b[39m{\u001b[39;00mkind\u001b[39m!r}\u001b[39;00m\u001b[39m is not a valid Parameter.kind\u001b[39m\u001b[39m'\u001b[39m)\n\u001b[0;32m-> 2642\u001b[0m \u001b[39mif\u001b[39;00m default \u001b[39mis\u001b[39;00m \u001b[39mnot\u001b[39;00m _empty:\n\u001b[1;32m   2643\u001b[0m     \u001b[39mif\u001b[39;00m \u001b[39mself\u001b[39m\u001b[39m.\u001b[39m_kind \u001b[39min\u001b[39;00m (_VAR_POSITIONAL, _VAR_KEYWORD):\n\u001b[1;32m   2644\u001b[0m         msg \u001b[39m=\u001b[39m \u001b[39m'\u001b[39m\u001b[39m{}\u001b[39;00m\u001b[39m parameters cannot have default values\u001b[39m\u001b[39m'\u001b[39m\n",
      "\u001b[0;31mKeyboardInterrupt\u001b[0m: "
     ]
    }
   ],
   "source": [
    "pt_avg_scores, tune_res = run_n_evolution_pt(5)"
   ]
  },
  {
   "cell_type": "code",
   "execution_count": 4,
   "metadata": {},
   "outputs": [],
   "source": [
    "import pickle\n",
    "with open('n_run_az_de_pt_avg_07.pkl', 'wb') as wf:\n",
    "    pickle.dump([pt_avg_scores, tune_res], wf)"
   ]
  }
 ],
 "metadata": {
  "kernelspec": {
   "display_name": "tensor",
   "language": "python",
   "name": "python3"
  },
  "language_info": {
   "codemirror_mode": {
    "name": "ipython",
    "version": 3
   },
   "file_extension": ".py",
   "mimetype": "text/x-python",
   "name": "python",
   "nbconvert_exporter": "python",
   "pygments_lexer": "ipython3",
   "version": "3.10.11"
  },
  "orig_nbformat": 4
 },
 "nbformat": 4,
 "nbformat_minor": 2
}
