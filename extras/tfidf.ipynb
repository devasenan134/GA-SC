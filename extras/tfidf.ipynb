{
 "cells": [
  {
   "cell_type": "code",
   "execution_count": 1,
   "metadata": {},
   "outputs": [],
   "source": [
    "import pandas as pd\n",
    "import numpy as np\n",
    "from math import log\n",
    "import matplotlib.pyplot as plt"
   ]
  },
  {
   "cell_type": "code",
   "execution_count": 2,
   "metadata": {},
   "outputs": [],
   "source": [
    "def get_tf(corpus):\n",
    "    tf_dict = []\n",
    "    for doc in corpus:\n",
    "        doc_count = {}\n",
    "        doc_len = len(doc)\n",
    "        for word in doc:\n",
    "            doc_count[word] = doc_count.get(word, 0) + 1\n",
    "        tf_dict.append([i/doc_len for i in doc_count.values()])\n",
    "    return tf_dict"
   ]
  },
  {
   "cell_type": "code",
   "execution_count": 3,
   "metadata": {},
   "outputs": [],
   "source": [
    "def get_idf(words_set, corpus):\n",
    "    docs_count = len(corpus)\n",
    "    words_dict = {}\n",
    "    idf = {}\n",
    "    for word in words_set:\n",
    "        for doc in corpus:\n",
    "            if word in doc:\n",
    "                words_dict[word] = words_dict.get(word, 0) + 1\n",
    "    for word in words_dict.keys():\n",
    "        idf[word] = log(docs_count/words_dict[word])\n",
    "    return idf, words_dict"
   ]
  },
  {
   "cell_type": "code",
   "execution_count": 4,
   "metadata": {},
   "outputs": [],
   "source": [
    "def get_tfidf(idf, tf, corpus, words_dict):\n",
    "    tfidf = []\n",
    "    avg_tfidf = {}\n",
    "    for i in range(len(corpus)-1):\n",
    "        doc_tfidf = []\n",
    "        doc = corpus[i]\n",
    "        tf_doc = tf[i]\n",
    "        for j in range(len(doc)-1):\n",
    "            doc_tfidf.append(tf_doc[j]*idf[doc[j]])\n",
    "            avg_tfidf[doc[j]] = avg_tfidf.get(doc[j], 0) + (tf_doc[j]*idf[doc[j]])\n",
    "        tfidf.append(doc_tfidf)\n",
    "    for word, tfidf in avg_tfidf.items():\n",
    "        avg_tfidf[word] = avg_tfidf[word]/words_dict[word]\n",
    "    return avg_tfidf"
   ]
  },
  {
   "cell_type": "code",
   "execution_count": 5,
   "metadata": {},
   "outputs": [
    {
     "name": "stdout",
     "output_type": "stream",
     "text": [
      "(109, 1)\n"
     ]
    }
   ],
   "source": [
    "finance = pd.read_csv('Finance.csv')\n",
    "\n",
    "print(finance.shape)\n",
    "n_docs = finance.shape[0]"
   ]
  },
  {
   "cell_type": "code",
   "execution_count": 11,
   "metadata": {},
   "outputs": [
    {
     "data": {
      "text/html": [
       "<div>\n",
       "<style scoped>\n",
       "    .dataframe tbody tr th:only-of-type {\n",
       "        vertical-align: middle;\n",
       "    }\n",
       "\n",
       "    .dataframe tbody tr th {\n",
       "        vertical-align: top;\n",
       "    }\n",
       "\n",
       "    .dataframe thead th {\n",
       "        text-align: right;\n",
       "    }\n",
       "</style>\n",
       "<table border=\"1\" class=\"dataframe\">\n",
       "  <thead>\n",
       "    <tr style=\"text-align: right;\">\n",
       "      <th></th>\n",
       "      <th>Keyskills</th>\n",
       "    </tr>\n",
       "  </thead>\n",
       "  <tbody>\n",
       "    <tr>\n",
       "      <th>0</th>\n",
       "      <td>Credit Underwriting, management, mortgage, mor...</td>\n",
       "    </tr>\n",
       "    <tr>\n",
       "      <th>1</th>\n",
       "      <td>Financial Modelling, modeling, private equity,...</td>\n",
       "    </tr>\n",
       "    <tr>\n",
       "      <th>2</th>\n",
       "      <td>finance, sales, back office, customer care, re...</td>\n",
       "    </tr>\n",
       "    <tr>\n",
       "      <th>3</th>\n",
       "      <td>php, management, compliance, legal compliance,...</td>\n",
       "    </tr>\n",
       "    <tr>\n",
       "      <th>4</th>\n",
       "      <td>Due diligence, Forecasting, PTP, Analytics, OT...</td>\n",
       "    </tr>\n",
       "  </tbody>\n",
       "</table>\n",
       "</div>"
      ],
      "text/plain": [
       "                                           Keyskills\n",
       "0  Credit Underwriting, management, mortgage, mor...\n",
       "1  Financial Modelling, modeling, private equity,...\n",
       "2  finance, sales, back office, customer care, re...\n",
       "3  php, management, compliance, legal compliance,...\n",
       "4  Due diligence, Forecasting, PTP, Analytics, OT..."
      ]
     },
     "execution_count": 11,
     "metadata": {},
     "output_type": "execute_result"
    }
   ],
   "source": [
    "finance.head()"
   ]
  },
  {
   "cell_type": "code",
   "execution_count": 6,
   "metadata": {},
   "outputs": [
    {
     "name": "stdout",
     "output_type": "stream",
     "text": [
      "386\n"
     ]
    }
   ],
   "source": [
    "corpus = []\n",
    "for i in range(n_docs):\n",
    "    corpus.append(list(finance.iloc[i])[0].split(','))\n",
    "# print(corpus)\n",
    "\n",
    "words_set = set()\n",
    "for doc in corpus:\n",
    "    words = doc\n",
    "    words_set = words_set.union(set(words))\n",
    "n_words_set = len(words_set)   #·Number of unique words in the \n",
    "print(n_words_set)"
   ]
  },
  {
   "cell_type": "code",
   "execution_count": 7,
   "metadata": {},
   "outputs": [
    {
     "name": "stdout",
     "output_type": "stream",
     "text": [
      "['finance' 'accounting' 'financial analysis' 'receivable' 'Forecasting'\n",
      " 'sap' 'analysis' 'balance' 'auditing' 'reporting']\n"
     ]
    }
   ],
   "source": [
    "tf = get_tf(corpus)\n",
    "idf, words_dict = get_idf(words_set, corpus)\n",
    "# print(corpus[-1], tf[-1])\n",
    "\n",
    "tfidf = get_tfidf(idf, tf, corpus, words_dict)\n",
    "\n",
    "sorted_idf = sorted(idf.items(), key=lambda x: x[1])\n",
    "# print(*sorted_idf[1:11], sep=\"\\n\")\n",
    "top_words = np.array(sorted_idf[1:11])[:, 0]\n",
    "print(top_words)"
   ]
  },
  {
   "cell_type": "code",
   "execution_count": 13,
   "metadata": {},
   "outputs": [
    {
     "data": {
      "text/html": [
       "<div>\n",
       "<style scoped>\n",
       "    .dataframe tbody tr th:only-of-type {\n",
       "        vertical-align: middle;\n",
       "    }\n",
       "\n",
       "    .dataframe tbody tr th {\n",
       "        vertical-align: top;\n",
       "    }\n",
       "\n",
       "    .dataframe thead th {\n",
       "        text-align: right;\n",
       "    }\n",
       "</style>\n",
       "<table border=\"1\" class=\"dataframe\">\n",
       "  <thead>\n",
       "    <tr style=\"text-align: right;\">\n",
       "      <th></th>\n",
       "      <th>Keyskills</th>\n",
       "    </tr>\n",
       "  </thead>\n",
       "  <tbody>\n",
       "    <tr>\n",
       "      <th>0</th>\n",
       "      <td>Credit Underwriting, management, mortgage, mor...</td>\n",
       "    </tr>\n",
       "    <tr>\n",
       "      <th>1</th>\n",
       "      <td>Financial Modelling, modeling, private equity,...</td>\n",
       "    </tr>\n",
       "    <tr>\n",
       "      <th>2</th>\n",
       "      <td>finance, sales, back office, customer care, re...</td>\n",
       "    </tr>\n",
       "    <tr>\n",
       "      <th>3</th>\n",
       "      <td>php, management, compliance, legal compliance,...</td>\n",
       "    </tr>\n",
       "    <tr>\n",
       "      <th>4</th>\n",
       "      <td>Due diligence, Forecasting, PTP, Analytics, OT...</td>\n",
       "    </tr>\n",
       "    <tr>\n",
       "      <th>...</th>\n",
       "      <td>...</td>\n",
       "    </tr>\n",
       "    <tr>\n",
       "      <th>104</th>\n",
       "      <td>Financial planning,kpi,planning,microsoft,acco...</td>\n",
       "    </tr>\n",
       "    <tr>\n",
       "      <th>105</th>\n",
       "      <td>Senior Accountant,tds,gst,financial statements...</td>\n",
       "    </tr>\n",
       "    <tr>\n",
       "      <th>106</th>\n",
       "      <td>ERP,Excel,Reconciliation,Quick Books,Charted A...</td>\n",
       "    </tr>\n",
       "    <tr>\n",
       "      <th>107</th>\n",
       "      <td>consumer goods,forecasting,management,financia...</td>\n",
       "    </tr>\n",
       "    <tr>\n",
       "      <th>108</th>\n",
       "      <td>MS Office,tally erp,receivable,account managem...</td>\n",
       "    </tr>\n",
       "  </tbody>\n",
       "</table>\n",
       "<p>109 rows × 1 columns</p>\n",
       "</div>"
      ],
      "text/plain": [
       "                                             Keyskills\n",
       "0    Credit Underwriting, management, mortgage, mor...\n",
       "1    Financial Modelling, modeling, private equity,...\n",
       "2    finance, sales, back office, customer care, re...\n",
       "3    php, management, compliance, legal compliance,...\n",
       "4    Due diligence, Forecasting, PTP, Analytics, OT...\n",
       "..                                                 ...\n",
       "104  Financial planning,kpi,planning,microsoft,acco...\n",
       "105  Senior Accountant,tds,gst,financial statements...\n",
       "106  ERP,Excel,Reconciliation,Quick Books,Charted A...\n",
       "107  consumer goods,forecasting,management,financia...\n",
       "108  MS Office,tally erp,receivable,account managem...\n",
       "\n",
       "[109 rows x 1 columns]"
      ]
     },
     "execution_count": 13,
     "metadata": {},
     "output_type": "execute_result"
    }
   ],
   "source": [
    "finance[['Keyskills']]"
   ]
  },
  {
   "cell_type": "code",
   "execution_count": 8,
   "metadata": {},
   "outputs": [
    {
     "ename": "TypeError",
     "evalue": "expected string or bytes-like object",
     "output_type": "error",
     "traceback": [
      "\u001b[1;31m---------------------------------------------------------------------------\u001b[0m",
      "\u001b[1;31mTypeError\u001b[0m                                 Traceback (most recent call last)",
      "Cell \u001b[1;32mIn[8], line 4\u001b[0m\n\u001b[0;32m      1\u001b[0m \u001b[39mfrom\u001b[39;00m \u001b[39mwordcloud\u001b[39;00m \u001b[39mimport\u001b[39;00m WordCloud \n\u001b[0;32m      2\u001b[0m wordcloud \u001b[39m=\u001b[39m WordCloud(width \u001b[39m=\u001b[39;49m \u001b[39m800\u001b[39;49m, height \u001b[39m=\u001b[39;49m \u001b[39m800\u001b[39;49m,\n\u001b[0;32m      3\u001b[0m                 background_color \u001b[39m=\u001b[39;49m\u001b[39m'\u001b[39;49m\u001b[39mwhite\u001b[39;49m\u001b[39m'\u001b[39;49m,\n\u001b[1;32m----> 4\u001b[0m                 min_font_size \u001b[39m=\u001b[39;49m \u001b[39m10\u001b[39;49m)\u001b[39m.\u001b[39;49mgenerate(finance\u001b[39m.\u001b[39;49miloc[\u001b[39m1\u001b[39;49m])\n",
      "File \u001b[1;32mc:\\Users\\student\\anaconda3\\envs\\dev-ml\\lib\\site-packages\\wordcloud\\wordcloud.py:639\u001b[0m, in \u001b[0;36mWordCloud.generate\u001b[1;34m(self, text)\u001b[0m\n\u001b[0;32m    624\u001b[0m \u001b[39mdef\u001b[39;00m \u001b[39mgenerate\u001b[39m(\u001b[39mself\u001b[39m, text):\n\u001b[0;32m    625\u001b[0m     \u001b[39m\"\"\"Generate wordcloud from text.\u001b[39;00m\n\u001b[0;32m    626\u001b[0m \n\u001b[0;32m    627\u001b[0m \u001b[39m    The input \"text\" is expected to be a natural text. If you pass a sorted\u001b[39;00m\n\u001b[1;32m   (...)\u001b[0m\n\u001b[0;32m    637\u001b[0m \u001b[39m    self\u001b[39;00m\n\u001b[0;32m    638\u001b[0m \u001b[39m    \"\"\"\u001b[39;00m\n\u001b[1;32m--> 639\u001b[0m     \u001b[39mreturn\u001b[39;00m \u001b[39mself\u001b[39;49m\u001b[39m.\u001b[39;49mgenerate_from_text(text)\n",
      "File \u001b[1;32mc:\\Users\\student\\anaconda3\\envs\\dev-ml\\lib\\site-packages\\wordcloud\\wordcloud.py:620\u001b[0m, in \u001b[0;36mWordCloud.generate_from_text\u001b[1;34m(self, text)\u001b[0m\n\u001b[0;32m    603\u001b[0m \u001b[39mdef\u001b[39;00m \u001b[39mgenerate_from_text\u001b[39m(\u001b[39mself\u001b[39m, text):\n\u001b[0;32m    604\u001b[0m     \u001b[39m\"\"\"Generate wordcloud from text.\u001b[39;00m\n\u001b[0;32m    605\u001b[0m \n\u001b[0;32m    606\u001b[0m \u001b[39m    The input \"text\" is expected to be a natural text. If you pass a sorted\u001b[39;00m\n\u001b[1;32m   (...)\u001b[0m\n\u001b[0;32m    618\u001b[0m \u001b[39m    self\u001b[39;00m\n\u001b[0;32m    619\u001b[0m \u001b[39m    \"\"\"\u001b[39;00m\n\u001b[1;32m--> 620\u001b[0m     words \u001b[39m=\u001b[39m \u001b[39mself\u001b[39;49m\u001b[39m.\u001b[39;49mprocess_text(text)\n\u001b[0;32m    621\u001b[0m     \u001b[39mself\u001b[39m\u001b[39m.\u001b[39mgenerate_from_frequencies(words)\n\u001b[0;32m    622\u001b[0m     \u001b[39mreturn\u001b[39;00m \u001b[39mself\u001b[39m\n",
      "File \u001b[1;32mc:\\Users\\student\\anaconda3\\envs\\dev-ml\\lib\\site-packages\\wordcloud\\wordcloud.py:582\u001b[0m, in \u001b[0;36mWordCloud.process_text\u001b[1;34m(self, text)\u001b[0m\n\u001b[0;32m    579\u001b[0m pattern \u001b[39m=\u001b[39m \u001b[39mr\u001b[39m\u001b[39m\"\u001b[39m\u001b[39m\\\u001b[39m\u001b[39mw[\u001b[39m\u001b[39m\\\u001b[39m\u001b[39mw\u001b[39m\u001b[39m'\u001b[39m\u001b[39m]*\u001b[39m\u001b[39m\"\u001b[39m \u001b[39mif\u001b[39;00m \u001b[39mself\u001b[39m\u001b[39m.\u001b[39mmin_word_length \u001b[39m<\u001b[39m\u001b[39m=\u001b[39m \u001b[39m1\u001b[39m \u001b[39melse\u001b[39;00m \u001b[39mr\u001b[39m\u001b[39m\"\u001b[39m\u001b[39m\\\u001b[39m\u001b[39mw[\u001b[39m\u001b[39m\\\u001b[39m\u001b[39mw\u001b[39m\u001b[39m'\u001b[39m\u001b[39m]+\u001b[39m\u001b[39m\"\u001b[39m\n\u001b[0;32m    580\u001b[0m regexp \u001b[39m=\u001b[39m \u001b[39mself\u001b[39m\u001b[39m.\u001b[39mregexp \u001b[39mif\u001b[39;00m \u001b[39mself\u001b[39m\u001b[39m.\u001b[39mregexp \u001b[39mis\u001b[39;00m \u001b[39mnot\u001b[39;00m \u001b[39mNone\u001b[39;00m \u001b[39melse\u001b[39;00m pattern\n\u001b[1;32m--> 582\u001b[0m words \u001b[39m=\u001b[39m re\u001b[39m.\u001b[39;49mfindall(regexp, text, flags)\n\u001b[0;32m    583\u001b[0m \u001b[39m# remove 's\u001b[39;00m\n\u001b[0;32m    584\u001b[0m words \u001b[39m=\u001b[39m [word[:\u001b[39m-\u001b[39m\u001b[39m2\u001b[39m] \u001b[39mif\u001b[39;00m word\u001b[39m.\u001b[39mlower()\u001b[39m.\u001b[39mendswith(\u001b[39m\"\u001b[39m\u001b[39m'\u001b[39m\u001b[39ms\u001b[39m\u001b[39m\"\u001b[39m) \u001b[39melse\u001b[39;00m word\n\u001b[0;32m    585\u001b[0m          \u001b[39mfor\u001b[39;00m word \u001b[39min\u001b[39;00m words]\n",
      "File \u001b[1;32mc:\\Users\\student\\anaconda3\\envs\\dev-ml\\lib\\re.py:240\u001b[0m, in \u001b[0;36mfindall\u001b[1;34m(pattern, string, flags)\u001b[0m\n\u001b[0;32m    232\u001b[0m \u001b[39mdef\u001b[39;00m \u001b[39mfindall\u001b[39m(pattern, string, flags\u001b[39m=\u001b[39m\u001b[39m0\u001b[39m):\n\u001b[0;32m    233\u001b[0m     \u001b[39m\"\"\"Return a list of all non-overlapping matches in the string.\u001b[39;00m\n\u001b[0;32m    234\u001b[0m \n\u001b[0;32m    235\u001b[0m \u001b[39m    If one or more capturing groups are present in the pattern, return\u001b[39;00m\n\u001b[1;32m   (...)\u001b[0m\n\u001b[0;32m    238\u001b[0m \n\u001b[0;32m    239\u001b[0m \u001b[39m    Empty matches are included in the result.\"\"\"\u001b[39;00m\n\u001b[1;32m--> 240\u001b[0m     \u001b[39mreturn\u001b[39;00m _compile(pattern, flags)\u001b[39m.\u001b[39;49mfindall(string)\n",
      "\u001b[1;31mTypeError\u001b[0m: expected string or bytes-like object"
     ]
    }
   ],
   "source": [
    "from wordcloud import WordCloud \n",
    "wordcloud = WordCloud(width = 800, height = 800,\n",
    "                background_color ='white',\n",
    "                min_font_size = 10).generate(finance.iloc[1])"
   ]
  },
  {
   "cell_type": "code",
   "execution_count": null,
   "metadata": {},
   "outputs": [],
   "source": [
    "plt.figure(figsize = (8, 8), facecolor = None)\n",
    "plt.imshow(wordcloud, interpolation='bilinear')\n",
    "plt.axis(\"off\")\n",
    "plt.tight_layout(pad = 0)\n",
    "plt.show()"
   ]
  }
 ],
 "metadata": {
  "kernelspec": {
   "display_name": "dev-ml",
   "language": "python",
   "name": "python3"
  },
  "language_info": {
   "codemirror_mode": {
    "name": "ipython",
    "version": 3
   },
   "file_extension": ".py",
   "mimetype": "text/x-python",
   "name": "python",
   "nbconvert_exporter": "python",
   "pygments_lexer": "ipython3",
   "version": "3.10.8"
  },
  "orig_nbformat": 4,
  "vscode": {
   "interpreter": {
    "hash": "720be5bf9d441e2d6c30bd91b067816aa682de3307c54a83a56a5f6c3674f9d6"
   }
  }
 },
 "nbformat": 4,
 "nbformat_minor": 2
}
